{
  "nbformat": 4,
  "nbformat_minor": 0,
  "metadata": {
    "colab": {
      "provenance": [],
      "gpuType": "T4",
      "include_colab_link": true
    },
    "kernelspec": {
      "name": "python3",
      "display_name": "Python 3"
    },
    "language_info": {
      "name": "python"
    },
    "accelerator": "GPU"
  },
  "cells": [
    {
      "cell_type": "markdown",
      "metadata": {
        "id": "view-in-github",
        "colab_type": "text"
      },
      "source": [
        "<a href=\"https://colab.research.google.com/github/annaluizacaraciolo/DeepLearning2023/blob/main/ListaPraticaMLPConv.ipynb\" target=\"_parent\"><img src=\"https://colab.research.google.com/assets/colab-badge.svg\" alt=\"Open In Colab\"/></a>"
      ]
    },
    {
      "cell_type": "markdown",
      "source": [
        "**LISTA PRÁTICA DAS UNIDADES 1 E 2**\n",
        "\n",
        "Pode ser feita com o grupo do projeto. Recomendo pair/group programming para que todos vejam um pouco de todas as partes.\n"
      ],
      "metadata": {
        "id": "SzcNr5C8FVQx"
      }
    },
    {
      "cell_type": "markdown",
      "source": [
        "Treine e avalie 4 modelos de classificação para a base de dados de \"handwritten digits\" do MNIST https://en.wikipedia.org/wiki/MNIST_database.\n",
        "\n",
        "\n",
        "\n",
        "1.   Um modelo base que não seja uma rede neural, como _decision tree, xgboost, random forest_, etc. Recomendação: use o sklearn (https://scikit-learn.org/).\n",
        "\n",
        "2.   Uma MLP\n",
        "\n",
        "3. Uma rede convolucional criada por ti. Recomendação: https://pytorch.org/\n",
        "\n",
        "4. Use um modelo pre treinado já consolidado na literatura para fazer _transfer learning_. Recomendações: https://pytorch.org/hub/pytorch_vision_vgg/\n",
        "\n",
        "\n",
        "Compare os resultados dos modelos:\n",
        "* plote gráficos que mostrem as acurácias de cada modelo\n",
        "* indique para cada modelo qual foi o digito mais dificil de classificar (indique qual métrica usou para concluir isso)\n",
        "* argumente qual o melhor modelo levando em consideração o tempo de execução e acurácia.\n",
        "\n",
        "Recomendação use:\n",
        "https://pytorch.org/vision/main/generated/torchvision.datasets.MNIST.html .\n",
        "\n"
      ],
      "metadata": {
        "id": "hvhmts4k90-a"
      }
    },
    {
      "cell_type": "markdown",
      "source": [
        "# Imports e Downloads"
      ],
      "metadata": {
        "id": "oK0gUqL9EuJD"
      }
    },
    {
      "cell_type": "code",
      "source": [
        "!pip install torch\n",
        "!pip install torchvision"
      ],
      "metadata": {
        "id": "UE14rPEsNFTk"
      },
      "execution_count": null,
      "outputs": []
    },
    {
      "cell_type": "code",
      "source": [
        "import torch\n",
        "import torch.nn as nn\n",
        "import torchvision.datasets as dsets\n",
        "import torchvision.transforms as transforms\n",
        "from torch.autograd import Variable"
      ],
      "metadata": {
        "id": "WObtstZyNNAV"
      },
      "execution_count": 2,
      "outputs": []
    },
    {
      "cell_type": "code",
      "source": [
        "import matplotlib.pyplot as plt"
      ],
      "metadata": {
        "id": "Q5lgS4nJHDVE"
      },
      "execution_count": 3,
      "outputs": []
    },
    {
      "cell_type": "code",
      "source": [
        "\n",
        "train_data = dsets.MNIST(root = './data', train = True,\n",
        "                        transform = transforms.ToTensor(), download = True)\n",
        "\n",
        "test_data = dsets.MNIST(root = './data', train = False,\n",
        "                       transform = transforms.ToTensor())"
      ],
      "metadata": {
        "id": "sgzcKvcQEw40",
        "colab": {
          "base_uri": "https://localhost:8080/"
        },
        "outputId": "81649623-bec3-49dd-a7e7-1a2a2cd3193c"
      },
      "execution_count": 4,
      "outputs": [
        {
          "output_type": "stream",
          "name": "stdout",
          "text": [
            "Downloading http://yann.lecun.com/exdb/mnist/train-images-idx3-ubyte.gz\n",
            "Downloading http://yann.lecun.com/exdb/mnist/train-images-idx3-ubyte.gz to ./data/MNIST/raw/train-images-idx3-ubyte.gz\n"
          ]
        },
        {
          "output_type": "stream",
          "name": "stderr",
          "text": [
            "100%|██████████| 9912422/9912422 [00:00<00:00, 164946326.39it/s]"
          ]
        },
        {
          "output_type": "stream",
          "name": "stdout",
          "text": [
            "Extracting ./data/MNIST/raw/train-images-idx3-ubyte.gz to ./data/MNIST/raw\n"
          ]
        },
        {
          "output_type": "stream",
          "name": "stderr",
          "text": [
            "\n"
          ]
        },
        {
          "output_type": "stream",
          "name": "stdout",
          "text": [
            "\n",
            "Downloading http://yann.lecun.com/exdb/mnist/train-labels-idx1-ubyte.gz\n",
            "Downloading http://yann.lecun.com/exdb/mnist/train-labels-idx1-ubyte.gz to ./data/MNIST/raw/train-labels-idx1-ubyte.gz\n"
          ]
        },
        {
          "output_type": "stream",
          "name": "stderr",
          "text": [
            "100%|██████████| 28881/28881 [00:00<00:00, 113210928.81it/s]\n"
          ]
        },
        {
          "output_type": "stream",
          "name": "stdout",
          "text": [
            "Extracting ./data/MNIST/raw/train-labels-idx1-ubyte.gz to ./data/MNIST/raw\n",
            "\n",
            "Downloading http://yann.lecun.com/exdb/mnist/t10k-images-idx3-ubyte.gz\n",
            "Downloading http://yann.lecun.com/exdb/mnist/t10k-images-idx3-ubyte.gz to ./data/MNIST/raw/t10k-images-idx3-ubyte.gz\n"
          ]
        },
        {
          "output_type": "stream",
          "name": "stderr",
          "text": [
            "100%|██████████| 1648877/1648877 [00:00<00:00, 89692134.26it/s]"
          ]
        },
        {
          "output_type": "stream",
          "name": "stdout",
          "text": [
            "Extracting ./data/MNIST/raw/t10k-images-idx3-ubyte.gz to ./data/MNIST/raw\n"
          ]
        },
        {
          "output_type": "stream",
          "name": "stderr",
          "text": [
            "\n"
          ]
        },
        {
          "output_type": "stream",
          "name": "stdout",
          "text": [
            "\n",
            "Downloading http://yann.lecun.com/exdb/mnist/t10k-labels-idx1-ubyte.gz\n",
            "Downloading http://yann.lecun.com/exdb/mnist/t10k-labels-idx1-ubyte.gz to ./data/MNIST/raw/t10k-labels-idx1-ubyte.gz\n"
          ]
        },
        {
          "output_type": "stream",
          "name": "stderr",
          "text": [
            "100%|██████████| 4542/4542 [00:00<00:00, 23461242.33it/s]"
          ]
        },
        {
          "output_type": "stream",
          "name": "stdout",
          "text": [
            "Extracting ./data/MNIST/raw/t10k-labels-idx1-ubyte.gz to ./data/MNIST/raw\n",
            "\n"
          ]
        },
        {
          "output_type": "stream",
          "name": "stderr",
          "text": [
            "\n"
          ]
        }
      ]
    },
    {
      "cell_type": "code",
      "source": [
        "labels_map = {\n",
        "    0: \"0\",\n",
        "    1: \"1\",\n",
        "    2: \"2\",\n",
        "    3: \"3\",\n",
        "    4: \"4\",\n",
        "    5: \"5\",\n",
        "    6: \"6\",\n",
        "    7: \"7\",\n",
        "    8: \"8\",\n",
        "    9: \"9\",\n",
        "}\n",
        "figure = plt.figure(figsize=(8, 8))\n",
        "cols, rows = 3, 3\n",
        "for i in range(1, cols * rows + 1):\n",
        "    sample_idx = torch.randint(len(train_data), size=(1,)).item()\n",
        "    img, label = train_data[sample_idx]\n",
        "    figure.add_subplot(rows, cols, i)\n",
        "    plt.title(labels_map[label])\n",
        "    plt.axis(\"off\")\n",
        "    plt.imshow(img.squeeze(), cmap=\"gray\")\n",
        "plt.show()"
      ],
      "metadata": {
        "colab": {
          "base_uri": "https://localhost:8080/",
          "height": 675
        },
        "id": "P4QDDHs5Q0W_",
        "outputId": "788ec2c6-0113-4af8-bb17-b4acfda249c6"
      },
      "execution_count": 5,
      "outputs": [
        {
          "output_type": "display_data",
          "data": {
            "text/plain": [
              "<Figure size 800x800 with 9 Axes>"
            ],
            "image/png": "[encoded data removed]"
          },
          "metadata": {}
        }
      ]
    },
    {
      "cell_type": "code",
      "source": [
        "train_gen = torch.utils.data.DataLoader(dataset = train_data,\n",
        "                                             batch_size = 64,\n",
        "                                             shuffle = True)\n",
        "\n",
        "test_gen = torch.utils.data.DataLoader(dataset = test_data,\n",
        "                                      batch_size = 64,\n",
        "                                      shuffle = False)"
      ],
      "metadata": {
        "id": "r3z1lgkFQW1V"
      },
      "execution_count": 6,
      "outputs": []
    },
    {
      "cell_type": "code",
      "source": [
        "# Display image and label.\n",
        "train_features, train_labels = next(iter(train_gen))\n",
        "print(f\"Feature batch shape: {train_features.size()}\")\n",
        "print(f\"Labels batch shape: {train_labels.size()}\")\n",
        "img = train_features[0].squeeze()\n",
        "label = train_labels[0]\n",
        "plt.imshow(img, cmap=\"gray\")\n",
        "plt.show()\n",
        "print(f\"Label: {label}\")"
      ],
      "metadata": {
        "colab": {
          "base_uri": "https://localhost:8080/",
          "height": 482
        },
        "id": "fr55euSCSAuk",
        "outputId": "655799f2-ce2a-4f52-a9b1-0dca4eaeaa67"
      },
      "execution_count": 7,
      "outputs": [
        {
          "output_type": "stream",
          "name": "stdout",
          "text": [
            "Feature batch shape: torch.Size([64, 1, 28, 28])\n",
            "Labels batch shape: torch.Size([64])\n"
          ]
        },
        {
          "output_type": "display_data",
          "data": {
            "text/plain": [
              "<Figure size 640x480 with 1 Axes>"
            ],
            "image/png": "[encoded data removed]"
          },
          "metadata": {}
        },
        {
          "output_type": "stream",
          "name": "stdout",
          "text": [
            "Label: 7\n"
          ]
        }
      ]
    },
    {
      "cell_type": "markdown",
      "source": [
        "# Modelo base"
      ],
      "metadata": {
        "id": "rz4Rv_MaCnvO"
      }
    },
    {
      "cell_type": "code",
      "execution_count": 8,
      "metadata": {
        "id": "anIaY4TB9mQG",
        "colab": {
          "base_uri": "https://localhost:8080/",
          "height": 74
        },
        "outputId": "1041221e-4b8c-4ab2-a457-375577174e9c"
      },
      "outputs": [
        {
          "output_type": "execute_result",
          "data": {
            "text/plain": [
              "RandomForestClassifier(max_depth=10, random_state=0)"
            ],
            "text/html": [
              "<style>#sk-container-id-1 {color: black;background-color: white;}#sk-container-id-1 pre{padding: 0;}#sk-container-id-1 div.sk-toggleable {background-color: white;}#sk-container-id-1 label.sk-toggleable__label {cursor: pointer;display: block;width: 100%;margin-bottom: 0;padding: 0.3em;box-sizing: border-box;text-align: center;}#sk-container-id-1 label.sk-toggleable__label-arrow:before {content: \"▸\";float: left;margin-right: 0.25em;color: #696969;}#sk-container-id-1 label.sk-toggleable__label-arrow:hover:before {color: black;}#sk-container-id-1 div.sk-estimator:hover label.sk-toggleable__label-arrow:before {color: black;}#sk-container-id-1 div.sk-toggleable__content {max-height: 0;max-width: 0;overflow: hidden;text-align: left;background-color: #f0f8ff;}#sk-container-id-1 div.sk-toggleable__content pre {margin: 0.2em;color: black;border-radius: 0.25em;background-color: #f0f8ff;}#sk-container-id-1 input.sk-toggleable__control:checked~div.sk-toggleable__content {max-height: 200px;max-width: 100%;overflow: auto;}#sk-container-id-1 input.sk-toggleable__control:checked~label.sk-toggleable__label-arrow:before {content: \"▾\";}#sk-container-id-1 div.sk-estimator input.sk-toggleable__control:checked~label.sk-toggleable__label {background-color: #d4ebff;}#sk-container-id-1 div.sk-label input.sk-toggleable__control:checked~label.sk-toggleable__label {background-color: #d4ebff;}#sk-container-id-1 input.sk-hidden--visually {border: 0;clip: rect(1px 1px 1px 1px);clip: rect(1px, 1px, 1px, 1px);height: 1px;margin: -1px;overflow: hidden;padding: 0;position: absolute;width: 1px;}#sk-container-id-1 div.sk-estimator {font-family: monospace;background-color: #f0f8ff;border: 1px dotted black;border-radius: 0.25em;box-sizing: border-box;margin-bottom: 0.5em;}#sk-container-id-1 div.sk-estimator:hover {background-color: #d4ebff;}#sk-container-id-1 div.sk-parallel-item::after {content: \"\";width: 100%;border-bottom: 1px solid gray;flex-grow: 1;}#sk-container-id-1 div.sk-label:hover label.sk-toggleable__label {background-color: #d4ebff;}#sk-container-id-1 div.sk-serial::before {content: \"\";position: absolute;border-left: 1px solid gray;box-sizing: border-box;top: 0;bottom: 0;left: 50%;z-index: 0;}#sk-container-id-1 div.sk-serial {display: flex;flex-direction: column;align-items: center;background-color: white;padding-right: 0.2em;padding-left: 0.2em;position: relative;}#sk-container-id-1 div.sk-item {position: relative;z-index: 1;}#sk-container-id-1 div.sk-parallel {display: flex;align-items: stretch;justify-content: center;background-color: white;position: relative;}#sk-container-id-1 div.sk-item::before, #sk-container-id-1 div.sk-parallel-item::before {content: \"\";position: absolute;border-left: 1px solid gray;box-sizing: border-box;top: 0;bottom: 0;left: 50%;z-index: -1;}#sk-container-id-1 div.sk-parallel-item {display: flex;flex-direction: column;z-index: 1;position: relative;background-color: white;}#sk-container-id-1 div.sk-parallel-item:first-child::after {align-self: flex-end;width: 50%;}#sk-container-id-1 div.sk-parallel-item:last-child::after {align-self: flex-start;width: 50%;}#sk-container-id-1 div.sk-parallel-item:only-child::after {width: 0;}#sk-container-id-1 div.sk-dashed-wrapped {border: 1px dashed gray;margin: 0 0.4em 0.5em 0.4em;box-sizing: border-box;padding-bottom: 0.4em;background-color: white;}#sk-container-id-1 div.sk-label label {font-family: monospace;font-weight: bold;display: inline-block;line-height: 1.2em;}#sk-container-id-1 div.sk-label-container {text-align: center;}#sk-container-id-1 div.sk-container {/* jupyter's `normalize.less` sets `[hidden] { display: none; }` but bootstrap.min.css set `[hidden] { display: none !important; }` so we also need the `!important` here to be able to override the default hidden behavior on the sphinx rendered scikit-learn.org. See: https://github.com/scikit-learn/scikit-learn/issues/21755 */display: inline-block !important;position: relative;}#sk-container-id-1 div.sk-text-repr-fallback {display: none;}</style><div id=\"sk-container-id-1\" class=\"sk-top-container\"><div class=\"sk-text-repr-fallback\"><pre>RandomForestClassifier(max_depth=10, random_state=0)</pre><b>In a Jupyter environment, please rerun this cell to show the HTML representation or trust the notebook. <br />On GitHub, the HTML representation is unable to render, please try loading this page with nbviewer.org.</b></div><div class=\"sk-container\" hidden><div class=\"sk-item\"><div class=\"sk-estimator sk-toggleable\"><input class=\"sk-toggleable__control sk-hidden--visually\" id=\"sk-estimator-id-1\" type=\"checkbox\" checked><label for=\"sk-estimator-id-1\" class=\"sk-toggleable__label sk-toggleable__label-arrow\">RandomForestClassifier</label><div class=\"sk-toggleable__content\"><pre>RandomForestClassifier(max_depth=10, random_state=0)</pre></div></div></div></div></div>"
            ]
          },
          "metadata": {},
          "execution_count": 8
        }
      ],
      "source": [
        "from sklearn.ensemble import RandomForestClassifier\n",
        "\n",
        "nsamples, nx, ny, nrgb = train_features.shape\n",
        "x_train = train_features.reshape((nsamples, nx*ny*nrgb))\n",
        "\n",
        "clf = RandomForestClassifier(max_depth=10, random_state=0)\n",
        "clf.fit(x_train, train_labels)"
      ]
    },
    {
      "cell_type": "code",
      "source": [
        "test_features, test_labels = next(iter(test_gen))\n",
        "nsampes_test, nx_test, ny_test, nrgb_test = test_features.shape\n",
        "x_test = test_features.reshape((nsampes_test, nx_test*ny_test*nrgb_test))\n",
        "y_pred = clf.predict(x_test)"
      ],
      "metadata": {
        "id": "2I4pYxDHmmWq"
      },
      "execution_count": 9,
      "outputs": []
    },
    {
      "cell_type": "code",
      "source": [
        "y_pred"
      ],
      "metadata": {
        "colab": {
          "base_uri": "https://localhost:8080/"
        },
        "id": "7dA_itkcnqlH",
        "outputId": "23a22457-446d-4e69-acc6-4ed0ad026a9c"
      },
      "execution_count": 10,
      "outputs": [
        {
          "output_type": "execute_result",
          "data": {
            "text/plain": [
              "array([7, 2, 1, 0, 9, 1, 9, 7, 6, 9, 0, 6, 9, 0, 1, 5, 7, 7, 3, 4, 9, 6,\n",
              "       6, 8, 7, 0, 7, 4, 0, 1, 3, 7, 3, 6, 7, 2, 7, 1, 8, 1, 1, 7, 1, 1,\n",
              "       3, 3, 7, 7, 4, 4, 6, 3, 7, 3, 2, 0, 4, 1, 9, 7, 7, 8, 7, 9])"
            ]
          },
          "metadata": {},
          "execution_count": 10
        }
      ]
    },
    {
      "cell_type": "markdown",
      "source": [
        "### Scores"
      ],
      "metadata": {
        "id": "BFlc8ZTNntgS"
      }
    },
    {
      "cell_type": "code",
      "source": [
        "from sklearn.metrics import accuracy_score, confusion_matrix, classification_report\n",
        "accuracy_score(y_pred, test_labels)"
      ],
      "metadata": {
        "colab": {
          "base_uri": "https://localhost:8080/"
        },
        "id": "ucQrTYoinviY",
        "outputId": "83f33367-0453-4047-8c05-f1386390a90a"
      },
      "execution_count": null,
      "outputs": [
        {
          "output_type": "execute_result",
          "data": {
            "text/plain": [
              "0.63"
            ]
          },
          "metadata": {},
          "execution_count": 22
        }
      ]
    },
    {
      "cell_type": "code",
      "source": [
        "print(classification_report(y_pred, test_labels))"
      ],
      "metadata": {
        "colab": {
          "base_uri": "https://localhost:8080/"
        },
        "id": "C67Lt5VAoHGh",
        "outputId": "f27e4f1c-79fc-4d69-f105-88df0725741d"
      },
      "execution_count": null,
      "outputs": [
        {
          "output_type": "stream",
          "name": "stdout",
          "text": [
            "              precision    recall  f1-score   support\n",
            "\n",
            "           0       1.00      0.80      0.89        10\n",
            "           1       0.86      1.00      0.92        12\n",
            "           2       0.25      0.67      0.36         3\n",
            "           3       0.64      0.70      0.67        10\n",
            "           4       0.14      1.00      0.25         2\n",
            "           5       0.14      0.50      0.22         2\n",
            "           6       1.00      0.71      0.83        14\n",
            "           7       0.80      0.80      0.80        15\n",
            "           8       0.50      0.09      0.15        11\n",
            "           9       0.73      0.38      0.50        21\n",
            "\n",
            "    accuracy                           0.63       100\n",
            "   macro avg       0.61      0.67      0.56       100\n",
            "weighted avg       0.75      0.63      0.65       100\n",
            "\n"
          ]
        }
      ]
    },
    {
      "cell_type": "markdown",
      "source": [
        "# MLP"
      ],
      "metadata": {
        "id": "2jx1ioMnCqC3"
      }
    },
    {
      "cell_type": "code",
      "source": [
        "from sklearn.neural_network import MLPClassifier\n",
        "\n",
        "clf_mlp = MLPClassifier(random_state=1, max_iter=300).fit(x_train, train_labels)"
      ],
      "metadata": {
        "id": "dh_cQPsCCu7Y"
      },
      "execution_count": 19,
      "outputs": []
    },
    {
      "cell_type": "code",
      "source": [
        "predictions = clf_mlp.predict(x_test)\n",
        "predictions"
      ],
      "metadata": {
        "colab": {
          "base_uri": "https://localhost:8080/"
        },
        "id": "ZGRq-g7OIU8b",
        "outputId": "7eb42907-cd49-4af6-f565-0a30549d7d5f"
      },
      "execution_count": 24,
      "outputs": [
        {
          "output_type": "execute_result",
          "data": {
            "text/plain": [
              "array([7, 2, 1, 0, 2, 1, 9, 6, 2, 9, 0, 6, 4, 0, 1, 5, 7, 7, 3, 4, 9, 6,\n",
              "       6, 8, 4, 0, 7, 4, 0, 1, 3, 1, 3, 2, 7, 2, 7, 1, 8, 1, 1, 7, 9, 2,\n",
              "       3, 5, 8, 2, 9, 2, 6, 3, 0, 3, 2, 8, 4, 1, 9, 7, 7, 8, 9, 9])"
            ]
          },
          "metadata": {},
          "execution_count": 24
        }
      ]
    },
    {
      "cell_type": "markdown",
      "source": [
        "Visualizando algumas da predictions"
      ],
      "metadata": {
        "id": "qz6oLkC0KQq6"
      }
    },
    {
      "cell_type": "code",
      "source": [
        "for i in range(len(predictions)):\n",
        "  img = test_features[i].squeeze()\n",
        "  label = predictions[i]\n",
        "  plt.imshow(img, cmap=\"gray\")\n",
        "  plt.show()\n",
        "  print(f\"Prediction: {label}\")\n",
        "\n",
        "  if i == 3: break"
      ],
      "metadata": {
        "colab": {
          "base_uri": "https://localhost:8080/",
          "height": 1000
        },
        "id": "e9FFj9kiJKTq",
        "outputId": "35cd76ff-5851-4e9d-9786-9704de6e75b4"
      },
      "execution_count": 28,
      "outputs": [
        {
          "output_type": "display_data",
          "data": {
            "text/plain": [
              "<Figure size 640x480 with 1 Axes>"
            ],
            "image/png": "[encoded data removed]"
          },
          "metadata": {}
        },
        {
          "output_type": "stream",
          "name": "stdout",
          "text": [
            "Prediction: 7\n"
          ]
        },
        {
          "output_type": "display_data",
          "data": {
            "text/plain": [
              "<Figure size 640x480 with 1 Axes>"
            ],
            "image/png": "[encoded data removed]"
          },
          "metadata": {}
        },
        {
          "output_type": "stream",
          "name": "stdout",
          "text": [
            "Prediction: 2\n"
          ]
        },
        {
          "output_type": "display_data",
          "data": {
            "text/plain": [
              "<Figure size 640x480 with 1 Axes>"
            ],
            "image/png": "[encoded data removed]"
          },
          "metadata": {}
        },
        {
          "output_type": "stream",
          "name": "stdout",
          "text": [
            "Prediction: 1\n"
          ]
        },
        {
          "output_type": "display_data",
          "data": {
            "text/plain": [
              "<Figure size 640x480 with 1 Axes>"
            ],
            "image/png": "[encoded data removed]"
          },
          "metadata": {}
        },
        {
          "output_type": "stream",
          "name": "stdout",
          "text": [
            "Prediction: 0\n"
          ]
        }
      ]
    },
    {
      "cell_type": "code",
      "source": [
        "clf_mlp.score(x_test, test_labels)"
      ],
      "metadata": {
        "colab": {
          "base_uri": "https://localhost:8080/"
        },
        "id": "1YEUzlecIdP9",
        "outputId": "22ca1e66-3816-4725-8c5f-be7080fc2a0e"
      },
      "execution_count": 22,
      "outputs": [
        {
          "output_type": "execute_result",
          "data": {
            "text/plain": [
              "0.703125"
            ]
          },
          "metadata": {},
          "execution_count": 22
        }
      ]
    },
    {
      "cell_type": "markdown",
      "source": [
        "# Rede Convolucional"
      ],
      "metadata": {
        "id": "3zV0XIuwCvbL"
      }
    },
    {
      "cell_type": "code",
      "source": [
        "input_size = 784 # img_size = (28,28) ---> 28*28=784 in total\n",
        "hidden_size = 500 # number of nodes at hidden layer\n",
        "num_classes = 10 # number of output classes discrete range [0,9]\n",
        "num_epochs = 20 # number of times which the entire dataset is passed throughout the model\n",
        "batch_size = 64 # the size of input data took for one iteration\n",
        "lr = 1e-3 # size of step"
      ],
      "metadata": {
        "id": "3aJYFL6VUP1E"
      },
      "execution_count": 11,
      "outputs": []
    },
    {
      "cell_type": "code",
      "source": [
        "class Net(nn.Module):\n",
        "  def __init__(self, input_size, hidden_size, num_classes):\n",
        "    super(Net,self).__init__()\n",
        "    self.fc1 = nn.Linear(input_size, hidden_size)\n",
        "    self.relu = nn.ReLU()\n",
        "    self.fc2 = nn.Linear(hidden_size, num_classes)\n",
        "\n",
        "  def forward(self,x):\n",
        "    out = self.fc1(x)\n",
        "    out = self.relu(out)\n",
        "    out = self.fc2(out)\n",
        "    return out"
      ],
      "metadata": {
        "id": "2WCbrZzJC1oz"
      },
      "execution_count": 12,
      "outputs": []
    },
    {
      "cell_type": "code",
      "source": [
        "net = Net(input_size, hidden_size, num_classes)\n",
        "if torch.cuda.is_available():\n",
        "  net.cuda()"
      ],
      "metadata": {
        "id": "xo2R-jU5UHcb"
      },
      "execution_count": 13,
      "outputs": []
    },
    {
      "cell_type": "code",
      "source": [
        "print(torch.__version__, torch.cuda.is_available())"
      ],
      "metadata": {
        "colab": {
          "base_uri": "https://localhost:8080/"
        },
        "id": "UoSDY3RxU1JO",
        "outputId": "760e21f3-8b6a-429d-a36c-db721646dc79"
      },
      "execution_count": 14,
      "outputs": [
        {
          "output_type": "stream",
          "name": "stdout",
          "text": [
            "2.0.1+cu118 True\n"
          ]
        }
      ]
    },
    {
      "cell_type": "code",
      "source": [
        "loss_function = nn.CrossEntropyLoss()\n",
        "optimizer = torch.optim.Adam( net.parameters(), lr=lr)"
      ],
      "metadata": {
        "id": "j3P8HsvdUY3r"
      },
      "execution_count": 15,
      "outputs": []
    },
    {
      "cell_type": "markdown",
      "source": [
        "### Training"
      ],
      "metadata": {
        "id": "IOTE17WWUbEI"
      }
    },
    {
      "cell_type": "markdown",
      "source": [
        "**Colocar ambiente de GPU para fazer funcionar**"
      ],
      "metadata": {
        "id": "QInZ0jvwoZn0"
      }
    },
    {
      "cell_type": "code",
      "source": [
        "for epoch in range(num_epochs):\n",
        "  for i ,(images,labels) in enumerate(train_gen):\n",
        "    images = Variable(images.view(-1,28*28)).cuda()\n",
        "    labels = Variable(labels).cuda()\n",
        "\n",
        "    optimizer.zero_grad()\n",
        "    outputs = net(images)\n",
        "    loss = loss_function(outputs, labels)\n",
        "    loss.backward()\n",
        "    optimizer.step()\n",
        "\n",
        "    if (i+1) % 100 == 0:\n",
        "      print('Epoch [%d/%d], Step [%d/%d], Loss: %.4f'\n",
        "                 %(epoch+1, num_epochs, i+1, len(train_data)//batch_size, loss.data))"
      ],
      "metadata": {
        "colab": {
          "base_uri": "https://localhost:8080/"
        },
        "id": "qOyWsRDFUcix",
        "outputId": "b840298e-9ef6-4b3f-ea58-df2983b2fbe3"
      },
      "execution_count": 17,
      "outputs": [
        {
          "output_type": "stream",
          "name": "stdout",
          "text": [
            "Epoch [1/20], Step [100/937], Loss: 0.4873\n",
            "Epoch [1/20], Step [200/937], Loss: 0.3665\n",
            "Epoch [1/20], Step [300/937], Loss: 0.4878\n",
            "Epoch [1/20], Step [400/937], Loss: 0.2268\n",
            "Epoch [1/20], Step [500/937], Loss: 0.1295\n",
            "Epoch [1/20], Step [600/937], Loss: 0.3269\n",
            "Epoch [1/20], Step [700/937], Loss: 0.3130\n",
            "Epoch [1/20], Step [800/937], Loss: 0.1136\n",
            "Epoch [1/20], Step [900/937], Loss: 0.1925\n",
            "Epoch [2/20], Step [100/937], Loss: 0.1677\n",
            "Epoch [2/20], Step [200/937], Loss: 0.1120\n",
            "Epoch [2/20], Step [300/937], Loss: 0.0633\n",
            "Epoch [2/20], Step [400/937], Loss: 0.0959\n",
            "Epoch [2/20], Step [500/937], Loss: 0.1994\n",
            "Epoch [2/20], Step [600/937], Loss: 0.1214\n",
            "Epoch [2/20], Step [700/937], Loss: 0.1423\n",
            "Epoch [2/20], Step [800/937], Loss: 0.1819\n",
            "Epoch [2/20], Step [900/937], Loss: 0.0901\n",
            "Epoch [3/20], Step [100/937], Loss: 0.0376\n",
            "Epoch [3/20], Step [200/937], Loss: 0.0381\n",
            "Epoch [3/20], Step [300/937], Loss: 0.1097\n",
            "Epoch [3/20], Step [400/937], Loss: 0.0285\n",
            "Epoch [3/20], Step [500/937], Loss: 0.0442\n",
            "Epoch [3/20], Step [600/937], Loss: 0.0404\n",
            "Epoch [3/20], Step [700/937], Loss: 0.0540\n",
            "Epoch [3/20], Step [800/937], Loss: 0.0287\n",
            "Epoch [3/20], Step [900/937], Loss: 0.0375\n",
            "Epoch [4/20], Step [100/937], Loss: 0.0229\n",
            "Epoch [4/20], Step [200/937], Loss: 0.0736\n",
            "Epoch [4/20], Step [300/937], Loss: 0.0609\n",
            "Epoch [4/20], Step [400/937], Loss: 0.0194\n",
            "Epoch [4/20], Step [500/937], Loss: 0.1829\n",
            "Epoch [4/20], Step [600/937], Loss: 0.0617\n",
            "Epoch [4/20], Step [700/937], Loss: 0.0185\n",
            "Epoch [4/20], Step [800/937], Loss: 0.0522\n",
            "Epoch [4/20], Step [900/937], Loss: 0.0981\n",
            "Epoch [5/20], Step [100/937], Loss: 0.0330\n",
            "Epoch [5/20], Step [200/937], Loss: 0.0173\n",
            "Epoch [5/20], Step [300/937], Loss: 0.0148\n",
            "Epoch [5/20], Step [400/937], Loss: 0.0710\n",
            "Epoch [5/20], Step [500/937], Loss: 0.0121\n",
            "Epoch [5/20], Step [600/937], Loss: 0.0099\n",
            "Epoch [5/20], Step [700/937], Loss: 0.0394\n",
            "Epoch [5/20], Step [800/937], Loss: 0.0149\n",
            "Epoch [5/20], Step [900/937], Loss: 0.0052\n",
            "Epoch [6/20], Step [100/937], Loss: 0.0249\n",
            "Epoch [6/20], Step [200/937], Loss: 0.0129\n",
            "Epoch [6/20], Step [300/937], Loss: 0.0091\n",
            "Epoch [6/20], Step [400/937], Loss: 0.0072\n",
            "Epoch [6/20], Step [500/937], Loss: 0.0184\n",
            "Epoch [6/20], Step [600/937], Loss: 0.0046\n",
            "Epoch [6/20], Step [700/937], Loss: 0.1362\n",
            "Epoch [6/20], Step [800/937], Loss: 0.0042\n",
            "Epoch [6/20], Step [900/937], Loss: 0.0143\n",
            "Epoch [7/20], Step [100/937], Loss: 0.0127\n",
            "Epoch [7/20], Step [200/937], Loss: 0.0252\n",
            "Epoch [7/20], Step [300/937], Loss: 0.0079\n",
            "Epoch [7/20], Step [400/937], Loss: 0.0306\n",
            "Epoch [7/20], Step [500/937], Loss: 0.0588\n",
            "Epoch [7/20], Step [600/937], Loss: 0.0186\n",
            "Epoch [7/20], Step [700/937], Loss: 0.0085\n",
            "Epoch [7/20], Step [800/937], Loss: 0.0213\n",
            "Epoch [7/20], Step [900/937], Loss: 0.0011\n",
            "Epoch [8/20], Step [100/937], Loss: 0.0016\n",
            "Epoch [8/20], Step [200/937], Loss: 0.0126\n",
            "Epoch [8/20], Step [300/937], Loss: 0.0047\n",
            "Epoch [8/20], Step [400/937], Loss: 0.0160\n",
            "Epoch [8/20], Step [500/937], Loss: 0.0110\n",
            "Epoch [8/20], Step [600/937], Loss: 0.0100\n",
            "Epoch [8/20], Step [700/937], Loss: 0.0222\n",
            "Epoch [8/20], Step [800/937], Loss: 0.0232\n",
            "Epoch [8/20], Step [900/937], Loss: 0.0280\n",
            "Epoch [9/20], Step [100/937], Loss: 0.0007\n",
            "Epoch [9/20], Step [200/937], Loss: 0.0028\n",
            "Epoch [9/20], Step [300/937], Loss: 0.0015\n",
            "Epoch [9/20], Step [400/937], Loss: 0.0022\n",
            "Epoch [9/20], Step [500/937], Loss: 0.0339\n",
            "Epoch [9/20], Step [600/937], Loss: 0.0282\n",
            "Epoch [9/20], Step [700/937], Loss: 0.0012\n",
            "Epoch [9/20], Step [800/937], Loss: 0.0092\n",
            "Epoch [9/20], Step [900/937], Loss: 0.0016\n",
            "Epoch [10/20], Step [100/937], Loss: 0.0266\n",
            "Epoch [10/20], Step [200/937], Loss: 0.0033\n",
            "Epoch [10/20], Step [300/937], Loss: 0.0144\n",
            "Epoch [10/20], Step [400/937], Loss: 0.0075\n",
            "Epoch [10/20], Step [500/937], Loss: 0.0003\n",
            "Epoch [10/20], Step [600/937], Loss: 0.0021\n",
            "Epoch [10/20], Step [700/937], Loss: 0.0059\n",
            "Epoch [10/20], Step [800/937], Loss: 0.0030\n",
            "Epoch [10/20], Step [900/937], Loss: 0.0159\n",
            "Epoch [11/20], Step [100/937], Loss: 0.0033\n",
            "Epoch [11/20], Step [200/937], Loss: 0.0028\n",
            "Epoch [11/20], Step [300/937], Loss: 0.0016\n",
            "Epoch [11/20], Step [400/937], Loss: 0.0007\n",
            "Epoch [11/20], Step [500/937], Loss: 0.0041\n",
            "Epoch [11/20], Step [600/937], Loss: 0.0043\n",
            "Epoch [11/20], Step [700/937], Loss: 0.0032\n",
            "Epoch [11/20], Step [800/937], Loss: 0.0223\n",
            "Epoch [11/20], Step [900/937], Loss: 0.0189\n",
            "Epoch [12/20], Step [100/937], Loss: 0.0018\n",
            "Epoch [12/20], Step [200/937], Loss: 0.0031\n",
            "Epoch [12/20], Step [300/937], Loss: 0.0016\n",
            "Epoch [12/20], Step [400/937], Loss: 0.0050\n",
            "Epoch [12/20], Step [500/937], Loss: 0.0108\n",
            "Epoch [12/20], Step [600/937], Loss: 0.0278\n",
            "Epoch [12/20], Step [700/937], Loss: 0.0030\n",
            "Epoch [12/20], Step [800/937], Loss: 0.0022\n",
            "Epoch [12/20], Step [900/937], Loss: 0.0082\n",
            "Epoch [13/20], Step [100/937], Loss: 0.0232\n",
            "Epoch [13/20], Step [200/937], Loss: 0.0414\n",
            "Epoch [13/20], Step [300/937], Loss: 0.0016\n",
            "Epoch [13/20], Step [400/937], Loss: 0.0003\n",
            "Epoch [13/20], Step [500/937], Loss: 0.0002\n",
            "Epoch [13/20], Step [600/937], Loss: 0.0008\n",
            "Epoch [13/20], Step [700/937], Loss: 0.0078\n",
            "Epoch [13/20], Step [800/937], Loss: 0.0004\n",
            "Epoch [13/20], Step [900/937], Loss: 0.1143\n",
            "Epoch [14/20], Step [100/937], Loss: 0.0019\n",
            "Epoch [14/20], Step [200/937], Loss: 0.0020\n",
            "Epoch [14/20], Step [300/937], Loss: 0.0004\n",
            "Epoch [14/20], Step [400/937], Loss: 0.0009\n",
            "Epoch [14/20], Step [500/937], Loss: 0.0004\n",
            "Epoch [14/20], Step [600/937], Loss: 0.0032\n",
            "Epoch [14/20], Step [700/937], Loss: 0.0002\n",
            "Epoch [14/20], Step [800/937], Loss: 0.0035\n",
            "Epoch [14/20], Step [900/937], Loss: 0.0003\n",
            "Epoch [15/20], Step [100/937], Loss: 0.0002\n",
            "Epoch [15/20], Step [200/937], Loss: 0.0007\n",
            "Epoch [15/20], Step [300/937], Loss: 0.0003\n",
            "Epoch [15/20], Step [400/937], Loss: 0.0009\n",
            "Epoch [15/20], Step [500/937], Loss: 0.0106\n",
            "Epoch [15/20], Step [600/937], Loss: 0.0298\n",
            "Epoch [15/20], Step [700/937], Loss: 0.0048\n",
            "Epoch [15/20], Step [800/937], Loss: 0.0005\n",
            "Epoch [15/20], Step [900/937], Loss: 0.0007\n",
            "Epoch [16/20], Step [100/937], Loss: 0.0018\n",
            "Epoch [16/20], Step [200/937], Loss: 0.0163\n",
            "Epoch [16/20], Step [300/937], Loss: 0.0018\n",
            "Epoch [16/20], Step [400/937], Loss: 0.0034\n",
            "Epoch [16/20], Step [500/937], Loss: 0.0008\n",
            "Epoch [16/20], Step [600/937], Loss: 0.0011\n",
            "Epoch [16/20], Step [700/937], Loss: 0.0005\n",
            "Epoch [16/20], Step [800/937], Loss: 0.0356\n",
            "Epoch [16/20], Step [900/937], Loss: 0.0151\n",
            "Epoch [17/20], Step [100/937], Loss: 0.0006\n",
            "Epoch [17/20], Step [200/937], Loss: 0.0001\n",
            "Epoch [17/20], Step [300/937], Loss: 0.0009\n",
            "Epoch [17/20], Step [400/937], Loss: 0.0009\n",
            "Epoch [17/20], Step [500/937], Loss: 0.0154\n",
            "Epoch [17/20], Step [600/937], Loss: 0.0042\n",
            "Epoch [17/20], Step [700/937], Loss: 0.0049\n",
            "Epoch [17/20], Step [800/937], Loss: 0.0034\n",
            "Epoch [17/20], Step [900/937], Loss: 0.0075\n",
            "Epoch [18/20], Step [100/937], Loss: 0.0004\n",
            "Epoch [18/20], Step [200/937], Loss: 0.0001\n",
            "Epoch [18/20], Step [300/937], Loss: 0.0008\n",
            "Epoch [18/20], Step [400/937], Loss: 0.0012\n",
            "Epoch [18/20], Step [500/937], Loss: 0.0001\n",
            "Epoch [18/20], Step [600/937], Loss: 0.0019\n",
            "Epoch [18/20], Step [700/937], Loss: 0.0021\n",
            "Epoch [18/20], Step [800/937], Loss: 0.0047\n",
            "Epoch [18/20], Step [900/937], Loss: 0.0004\n",
            "Epoch [19/20], Step [100/937], Loss: 0.0007\n",
            "Epoch [19/20], Step [200/937], Loss: 0.0005\n",
            "Epoch [19/20], Step [300/937], Loss: 0.0011\n",
            "Epoch [19/20], Step [400/937], Loss: 0.0031\n",
            "Epoch [19/20], Step [500/937], Loss: 0.0003\n",
            "Epoch [19/20], Step [600/937], Loss: 0.0008\n",
            "Epoch [19/20], Step [700/937], Loss: 0.0005\n",
            "Epoch [19/20], Step [800/937], Loss: 0.0000\n",
            "Epoch [19/20], Step [900/937], Loss: 0.0000\n",
            "Epoch [20/20], Step [100/937], Loss: 0.0001\n",
            "Epoch [20/20], Step [200/937], Loss: 0.0004\n",
            "Epoch [20/20], Step [300/937], Loss: 0.0001\n",
            "Epoch [20/20], Step [400/937], Loss: 0.0000\n",
            "Epoch [20/20], Step [500/937], Loss: 0.0002\n",
            "Epoch [20/20], Step [600/937], Loss: 0.0006\n",
            "Epoch [20/20], Step [700/937], Loss: 0.0192\n",
            "Epoch [20/20], Step [800/937], Loss: 0.0009\n",
            "Epoch [20/20], Step [900/937], Loss: 0.0051\n"
          ]
        }
      ]
    },
    {
      "cell_type": "markdown",
      "source": [
        "# Rede Convolucional consolidada"
      ],
      "metadata": {
        "id": "sUxkMdIuC1-8"
      }
    },
    {
      "cell_type": "code",
      "source": [
        "import pathlib\n",
        "import tensorflow as tf\n",
        "\n",
        "from tensorflow import keras\n",
        "from tensorflow.keras import layers\n",
        "from tensorflow.keras.models import Sequential"
      ],
      "metadata": {
        "id": "AJmntkoeHUSZ"
      },
      "execution_count": null,
      "outputs": []
    },
    {
      "cell_type": "markdown",
      "source": [
        "# Comparação"
      ],
      "metadata": {
        "id": "0C9HH1SqJfiT"
      }
    }
  ]
}