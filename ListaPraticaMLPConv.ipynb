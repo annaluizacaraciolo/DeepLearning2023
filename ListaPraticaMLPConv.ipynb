{
  "cells": [
    {
      "cell_type": "markdown",
      "metadata": {
        "id": "view-in-github",
        "colab_type": "text"
      },
      "source": [
        "<a href=\"https://colab.research.google.com/github/annaluizacaraciolo/DeepLearning2023/blob/main/ListaPraticaMLPConv.ipynb\" target=\"_parent\"><img src=\"https://colab.research.google.com/assets/colab-badge.svg\" alt=\"Open In Colab\"/></a>"
      ]
    },
    {
      "cell_type": "markdown",
      "source": [
        "<strong>\n",
        "Autores:<br>\n",
        "- Amanda Alves (aag) <br>\n",
        "- Anna Luiza Caraciolo (alcaf)\n",
        "</strong>"
      ],
      "metadata": {
        "id": "122z1sC6Zf2n"
      }
    },
    {
      "cell_type": "markdown",
      "metadata": {
        "id": "SzcNr5C8FVQx"
      },
      "source": [
        "**LISTA PRÁTICA DAS UNIDADES 1 E 2**\n",
        "\n",
        "Pode ser feita com o grupo do projeto. Recomendo pair/group programming para que todos vejam um pouco de todas as partes.\n"
      ]
    },
    {
      "cell_type": "markdown",
      "metadata": {
        "id": "hvhmts4k90-a"
      },
      "source": [
        "Treine e avalie 4 modelos de classificação para a base de dados de \"handwritten digits\" do MNIST https://en.wikipedia.org/wiki/MNIST_database.\n",
        "\n",
        "\n",
        "\n",
        "1.   Um modelo base que não seja uma rede neural, como _decision tree, xgboost, random forest_, etc. Recomendação: use o sklearn (https://scikit-learn.org/).\n",
        "\n",
        "2.   Uma MLP\n",
        "\n",
        "3. Uma rede convolucional criada por ti. Recomendação: https://pytorch.org/\n",
        "\n",
        "4. Use um modelo pre treinado já consolidado na literatura para fazer _transfer learning_. Recomendações: https://pytorch.org/hub/pytorch_vision_vgg/\n",
        "\n",
        "\n",
        "Compare os resultados dos modelos:\n",
        "* plote gráficos que mostrem as acurácias de cada modelo\n",
        "* indique para cada modelo qual foi o digito mais dificil de classificar (indique qual métrica usou para concluir isso)\n",
        "* argumente qual o melhor modelo levando em consideração o tempo de execução e acurácia.\n",
        "\n",
        "Recomendação use:\n",
        "https://pytorch.org/vision/main/generated/torchvision.datasets.MNIST.html .\n",
        "\n"
      ]
    },
    {
      "cell_type": "markdown",
      "metadata": {
        "id": "oK0gUqL9EuJD"
      },
      "source": [
        "# Imports e Downloads"
      ]
    },
    {
      "cell_type": "code",
      "execution_count": 1,
      "metadata": {
        "id": "UE14rPEsNFTk"
      },
      "outputs": [],
      "source": [
        "!pip install torch -q\n",
        "!pip install torchvision -q"
      ]
    },
    {
      "cell_type": "code",
      "execution_count": 2,
      "metadata": {
        "id": "WObtstZyNNAV"
      },
      "outputs": [],
      "source": [
        "import torch\n",
        "import torch.nn as nn\n",
        "import torchvision.datasets as dsets\n",
        "import torchvision.transforms as transforms\n",
        "from torch.autograd import Variable"
      ]
    },
    {
      "cell_type": "code",
      "execution_count": 3,
      "metadata": {
        "id": "Q5lgS4nJHDVE"
      },
      "outputs": [],
      "source": [
        "import matplotlib.pyplot as plt\n",
        "import numpy as np\n",
        "import seaborn as sns\n",
        "import pandas as pd\n",
        "from sklearn.metrics import accuracy_score, confusion_matrix, classification_report"
      ]
    },
    {
      "cell_type": "code",
      "execution_count": 4,
      "metadata": {
        "colab": {
          "base_uri": "https://localhost:8080/"
        },
        "id": "sgzcKvcQEw40",
        "outputId": "7895cf53-939f-4d2c-fca1-6b50fada69e3"
      },
      "outputs": [
        {
          "output_type": "stream",
          "name": "stdout",
          "text": [
            "Downloading http://yann.lecun.com/exdb/mnist/train-images-idx3-ubyte.gz\n",
            "Downloading http://yann.lecun.com/exdb/mnist/train-images-idx3-ubyte.gz to ./data/MNIST/raw/train-images-idx3-ubyte.gz\n"
          ]
        },
        {
          "output_type": "stream",
          "name": "stderr",
          "text": [
            "100%|██████████| 9912422/9912422 [00:00<00:00, 248995120.46it/s]"
          ]
        },
        {
          "output_type": "stream",
          "name": "stdout",
          "text": [
            "Extracting ./data/MNIST/raw/train-images-idx3-ubyte.gz to ./data/MNIST/raw\n"
          ]
        },
        {
          "output_type": "stream",
          "name": "stderr",
          "text": [
            "\n"
          ]
        },
        {
          "output_type": "stream",
          "name": "stdout",
          "text": [
            "\n",
            "Downloading http://yann.lecun.com/exdb/mnist/train-labels-idx1-ubyte.gz\n",
            "Downloading http://yann.lecun.com/exdb/mnist/train-labels-idx1-ubyte.gz to ./data/MNIST/raw/train-labels-idx1-ubyte.gz\n"
          ]
        },
        {
          "output_type": "stream",
          "name": "stderr",
          "text": [
            "100%|██████████| 28881/28881 [00:00<00:00, 132533581.86it/s]\n"
          ]
        },
        {
          "output_type": "stream",
          "name": "stdout",
          "text": [
            "Extracting ./data/MNIST/raw/train-labels-idx1-ubyte.gz to ./data/MNIST/raw\n",
            "\n",
            "Downloading http://yann.lecun.com/exdb/mnist/t10k-images-idx3-ubyte.gz\n",
            "Downloading http://yann.lecun.com/exdb/mnist/t10k-images-idx3-ubyte.gz to ./data/MNIST/raw/t10k-images-idx3-ubyte.gz\n"
          ]
        },
        {
          "output_type": "stream",
          "name": "stderr",
          "text": [
            "100%|██████████| 1648877/1648877 [00:00<00:00, 63949581.09it/s]"
          ]
        },
        {
          "output_type": "stream",
          "name": "stdout",
          "text": [
            "Extracting ./data/MNIST/raw/t10k-images-idx3-ubyte.gz to ./data/MNIST/raw\n",
            "\n",
            "Downloading http://yann.lecun.com/exdb/mnist/t10k-labels-idx1-ubyte.gz\n"
          ]
        },
        {
          "output_type": "stream",
          "name": "stderr",
          "text": [
            "\n"
          ]
        },
        {
          "output_type": "stream",
          "name": "stdout",
          "text": [
            "Downloading http://yann.lecun.com/exdb/mnist/t10k-labels-idx1-ubyte.gz to ./data/MNIST/raw/t10k-labels-idx1-ubyte.gz\n"
          ]
        },
        {
          "output_type": "stream",
          "name": "stderr",
          "text": [
            "100%|██████████| 4542/4542 [00:00<00:00, 22177565.50it/s]\n"
          ]
        },
        {
          "output_type": "stream",
          "name": "stdout",
          "text": [
            "Extracting ./data/MNIST/raw/t10k-labels-idx1-ubyte.gz to ./data/MNIST/raw\n",
            "\n"
          ]
        }
      ],
      "source": [
        "\n",
        "train_data = dsets.MNIST(root = './data', train = True,\n",
        "                        transform = transforms.ToTensor(), download = True)\n",
        "\n",
        "test_data = dsets.MNIST(root = './data', train = False,\n",
        "                       transform = transforms.ToTensor())"
      ]
    },
    {
      "cell_type": "code",
      "execution_count": 5,
      "metadata": {
        "colab": {
          "base_uri": "https://localhost:8080/",
          "height": 675
        },
        "id": "P4QDDHs5Q0W_",
        "outputId": "6e0fb37c-423b-4244-ff62-21696d9153ac"
      },
      "outputs": [
        {
          "output_type": "display_data",
          "data": {
            "text/plain": [
              "<Figure size 800x800 with 9 Axes>"
            ],
            "image/png": "[encoded data removed]"
          },
          "metadata": {}
        }
      ],
      "source": [
        "labels_map = {\n",
        "    0: \"0\",\n",
        "    1: \"1\",\n",
        "    2: \"2\",\n",
        "    3: \"3\",\n",
        "    4: \"4\",\n",
        "    5: \"5\",\n",
        "    6: \"6\",\n",
        "    7: \"7\",\n",
        "    8: \"8\",\n",
        "    9: \"9\",\n",
        "}\n",
        "figure = plt.figure(figsize=(8, 8))\n",
        "cols, rows = 3, 3\n",
        "for i in range(1, cols * rows + 1):\n",
        "    sample_idx = torch.randint(len(train_data), size=(1,)).item()\n",
        "    img, label = train_data[sample_idx]\n",
        "    figure.add_subplot(rows, cols, i)\n",
        "    plt.title(labels_map[label])\n",
        "    plt.axis(\"off\")\n",
        "    plt.imshow(img.squeeze(), cmap=\"gray\")\n",
        "plt.show()"
      ]
    },
    {
      "cell_type": "code",
      "execution_count": 6,
      "metadata": {
        "id": "r3z1lgkFQW1V"
      },
      "outputs": [],
      "source": [
        "train_gen = torch.utils.data.DataLoader(dataset = train_data,\n",
        "                                             batch_size = 64,\n",
        "                                             shuffle = True)\n",
        "\n",
        "test_gen = torch.utils.data.DataLoader(dataset = test_data,\n",
        "                                      batch_size = 64,\n",
        "                                      shuffle = False)"
      ]
    },
    {
      "cell_type": "code",
      "execution_count": 7,
      "metadata": {
        "colab": {
          "base_uri": "https://localhost:8080/",
          "height": 482
        },
        "id": "fr55euSCSAuk",
        "outputId": "76a43367-24b3-4c3c-adbc-7424cfa37f96"
      },
      "outputs": [
        {
          "output_type": "stream",
          "name": "stdout",
          "text": [
            "Feature batch shape: torch.Size([64, 1, 28, 28])\n",
            "Labels batch shape: torch.Size([64])\n"
          ]
        },
        {
          "output_type": "display_data",
          "data": {
            "text/plain": [
              "<Figure size 640x480 with 1 Axes>"
            ],
            "image/png": "[encoded data removed]"
          },
          "metadata": {}
        },
        {
          "output_type": "stream",
          "name": "stdout",
          "text": [
            "Label: 9\n"
          ]
        }
      ],
      "source": [
        "# Display image and label.\n",
        "train_features, train_labels = next(iter(train_gen))\n",
        "print(f\"Feature batch shape: {train_features.size()}\")\n",
        "print(f\"Labels batch shape: {train_labels.size()}\")\n",
        "img = train_features[0].squeeze()\n",
        "label = train_labels[0]\n",
        "plt.imshow(img, cmap=\"gray\")\n",
        "plt.show()\n",
        "print(f\"Label: {label}\")"
      ]
    },
    {
      "cell_type": "markdown",
      "metadata": {
        "id": "rz4Rv_MaCnvO"
      },
      "source": [
        "# Modelo base"
      ]
    },
    {
      "cell_type": "code",
      "execution_count": 9,
      "metadata": {
        "colab": {
          "base_uri": "https://localhost:8080/",
          "height": 75
        },
        "id": "anIaY4TB9mQG",
        "outputId": "6528d955-9b91-4531-d65e-dcae26c159cc"
      },
      "outputs": [
        {
          "output_type": "execute_result",
          "data": {
            "text/plain": [
              "RandomForestClassifier(max_depth=10, random_state=0)"
            ],
            "text/html": [
              "<style>#sk-container-id-1 {color: black;background-color: white;}#sk-container-id-1 pre{padding: 0;}#sk-container-id-1 div.sk-toggleable {background-color: white;}#sk-container-id-1 label.sk-toggleable__label {cursor: pointer;display: block;width: 100%;margin-bottom: 0;padding: 0.3em;box-sizing: border-box;text-align: center;}#sk-container-id-1 label.sk-toggleable__label-arrow:before {content: \"▸\";float: left;margin-right: 0.25em;color: #696969;}#sk-container-id-1 label.sk-toggleable__label-arrow:hover:before {color: black;}#sk-container-id-1 div.sk-estimator:hover label.sk-toggleable__label-arrow:before {color: black;}#sk-container-id-1 div.sk-toggleable__content {max-height: 0;max-width: 0;overflow: hidden;text-align: left;background-color: #f0f8ff;}#sk-container-id-1 div.sk-toggleable__content pre {margin: 0.2em;color: black;border-radius: 0.25em;background-color: #f0f8ff;}#sk-container-id-1 input.sk-toggleable__control:checked~div.sk-toggleable__content {max-height: 200px;max-width: 100%;overflow: auto;}#sk-container-id-1 input.sk-toggleable__control:checked~label.sk-toggleable__label-arrow:before {content: \"▾\";}#sk-container-id-1 div.sk-estimator input.sk-toggleable__control:checked~label.sk-toggleable__label {background-color: #d4ebff;}#sk-container-id-1 div.sk-label input.sk-toggleable__control:checked~label.sk-toggleable__label {background-color: #d4ebff;}#sk-container-id-1 input.sk-hidden--visually {border: 0;clip: rect(1px 1px 1px 1px);clip: rect(1px, 1px, 1px, 1px);height: 1px;margin: -1px;overflow: hidden;padding: 0;position: absolute;width: 1px;}#sk-container-id-1 div.sk-estimator {font-family: monospace;background-color: #f0f8ff;border: 1px dotted black;border-radius: 0.25em;box-sizing: border-box;margin-bottom: 0.5em;}#sk-container-id-1 div.sk-estimator:hover {background-color: #d4ebff;}#sk-container-id-1 div.sk-parallel-item::after {content: \"\";width: 100%;border-bottom: 1px solid gray;flex-grow: 1;}#sk-container-id-1 div.sk-label:hover label.sk-toggleable__label {background-color: #d4ebff;}#sk-container-id-1 div.sk-serial::before {content: \"\";position: absolute;border-left: 1px solid gray;box-sizing: border-box;top: 0;bottom: 0;left: 50%;z-index: 0;}#sk-container-id-1 div.sk-serial {display: flex;flex-direction: column;align-items: center;background-color: white;padding-right: 0.2em;padding-left: 0.2em;position: relative;}#sk-container-id-1 div.sk-item {position: relative;z-index: 1;}#sk-container-id-1 div.sk-parallel {display: flex;align-items: stretch;justify-content: center;background-color: white;position: relative;}#sk-container-id-1 div.sk-item::before, #sk-container-id-1 div.sk-parallel-item::before {content: \"\";position: absolute;border-left: 1px solid gray;box-sizing: border-box;top: 0;bottom: 0;left: 50%;z-index: -1;}#sk-container-id-1 div.sk-parallel-item {display: flex;flex-direction: column;z-index: 1;position: relative;background-color: white;}#sk-container-id-1 div.sk-parallel-item:first-child::after {align-self: flex-end;width: 50%;}#sk-container-id-1 div.sk-parallel-item:last-child::after {align-self: flex-start;width: 50%;}#sk-container-id-1 div.sk-parallel-item:only-child::after {width: 0;}#sk-container-id-1 div.sk-dashed-wrapped {border: 1px dashed gray;margin: 0 0.4em 0.5em 0.4em;box-sizing: border-box;padding-bottom: 0.4em;background-color: white;}#sk-container-id-1 div.sk-label label {font-family: monospace;font-weight: bold;display: inline-block;line-height: 1.2em;}#sk-container-id-1 div.sk-label-container {text-align: center;}#sk-container-id-1 div.sk-container {/* jupyter's `normalize.less` sets `[hidden] { display: none; }` but bootstrap.min.css set `[hidden] { display: none !important; }` so we also need the `!important` here to be able to override the default hidden behavior on the sphinx rendered scikit-learn.org. See: https://github.com/scikit-learn/scikit-learn/issues/21755 */display: inline-block !important;position: relative;}#sk-container-id-1 div.sk-text-repr-fallback {display: none;}</style><div id=\"sk-container-id-1\" class=\"sk-top-container\"><div class=\"sk-text-repr-fallback\"><pre>RandomForestClassifier(max_depth=10, random_state=0)</pre><b>In a Jupyter environment, please rerun this cell to show the HTML representation or trust the notebook. <br />On GitHub, the HTML representation is unable to render, please try loading this page with nbviewer.org.</b></div><div class=\"sk-container\" hidden><div class=\"sk-item\"><div class=\"sk-estimator sk-toggleable\"><input class=\"sk-toggleable__control sk-hidden--visually\" id=\"sk-estimator-id-1\" type=\"checkbox\" checked><label for=\"sk-estimator-id-1\" class=\"sk-toggleable__label sk-toggleable__label-arrow\">RandomForestClassifier</label><div class=\"sk-toggleable__content\"><pre>RandomForestClassifier(max_depth=10, random_state=0)</pre></div></div></div></div></div>"
            ]
          },
          "metadata": {},
          "execution_count": 9
        }
      ],
      "source": [
        "from sklearn.ensemble import RandomForestClassifier\n",
        "\n",
        "nsamples, nx, ny, nrgb = train_features.shape\n",
        "x_train = train_features.reshape((nsamples, nx*ny*nrgb))\n",
        "\n",
        "clf = RandomForestClassifier(max_depth=10, random_state=0)\n",
        "clf.fit(x_train, train_labels)"
      ]
    },
    {
      "cell_type": "code",
      "execution_count": 10,
      "metadata": {
        "id": "2I4pYxDHmmWq"
      },
      "outputs": [],
      "source": [
        "test_features, test_labels = next(iter(test_gen))\n",
        "nsampes_test, nx_test, ny_test, nrgb_test = test_features.shape\n",
        "x_test = test_features.reshape((nsampes_test, nx_test*ny_test*nrgb_test))\n",
        "y_pred = clf.predict(x_test)"
      ]
    },
    {
      "cell_type": "code",
      "execution_count": 11,
      "metadata": {
        "colab": {
          "base_uri": "https://localhost:8080/"
        },
        "id": "7dA_itkcnqlH",
        "outputId": "59a659fd-a39d-4f12-f985-40d55ee84a90"
      },
      "outputs": [
        {
          "output_type": "execute_result",
          "data": {
            "text/plain": [
              "array([9, 3, 1, 0, 4, 1, 4, 9, 4, 9, 0, 0, 9, 0, 1, 3, 4, 9, 3, 4, 9, 4,\n",
              "       4, 4, 4, 0, 9, 4, 0, 1, 3, 1, 3, 0, 9, 2, 9, 1, 3, 1, 1, 9, 4, 1,\n",
              "       3, 3, 3, 9, 4, 4, 6, 3, 9, 3, 1, 0, 4, 1, 4, 1, 3, 8, 9, 3])"
            ]
          },
          "metadata": {},
          "execution_count": 11
        }
      ],
      "source": [
        "y_pred"
      ]
    },
    {
      "cell_type": "markdown",
      "metadata": {
        "id": "BFlc8ZTNntgS"
      },
      "source": [
        "### Scores"
      ]
    },
    {
      "cell_type": "code",
      "execution_count": 12,
      "metadata": {
        "colab": {
          "base_uri": "https://localhost:8080/"
        },
        "id": "ucQrTYoinviY",
        "outputId": "39d72d07-f0a7-4e26-b77f-76deaa8f3dda"
      },
      "outputs": [
        {
          "output_type": "execute_result",
          "data": {
            "text/plain": [
              "0.59375"
            ]
          },
          "metadata": {},
          "execution_count": 12
        }
      ],
      "source": [
        "accuracy_score(y_pred, test_labels)"
      ]
    },
    {
      "cell_type": "code",
      "execution_count": 13,
      "metadata": {
        "colab": {
          "base_uri": "https://localhost:8080/"
        },
        "id": "C67Lt5VAoHGh",
        "outputId": "54c3570e-810b-407d-8918-6644d4e0d77f"
      },
      "outputs": [
        {
          "output_type": "stream",
          "name": "stdout",
          "text": [
            "              precision    recall  f1-score   support\n",
            "\n",
            "           0       1.00      0.75      0.86         8\n",
            "           1       0.90      0.75      0.82        12\n",
            "           2       0.20      1.00      0.33         1\n",
            "           3       1.00      0.46      0.63        13\n",
            "           4       0.90      0.60      0.72        15\n",
            "           5       0.00      0.00      0.00         0\n",
            "           6       0.20      1.00      0.33         1\n",
            "           7       0.00      0.00      0.00         0\n",
            "           8       1.00      1.00      1.00         1\n",
            "           9       0.71      0.38      0.50        13\n",
            "\n",
            "    accuracy                           0.59        64\n",
            "   macro avg       0.59      0.59      0.52        64\n",
            "weighted avg       0.87      0.59      0.69        64\n",
            "\n"
          ]
        },
        {
          "output_type": "stream",
          "name": "stderr",
          "text": [
            "/usr/local/lib/python3.10/dist-packages/sklearn/metrics/_classification.py:1344: UndefinedMetricWarning: Recall and F-score are ill-defined and being set to 0.0 in labels with no true samples. Use `zero_division` parameter to control this behavior.\n",
            "  _warn_prf(average, modifier, msg_start, len(result))\n",
            "/usr/local/lib/python3.10/dist-packages/sklearn/metrics/_classification.py:1344: UndefinedMetricWarning: Recall and F-score are ill-defined and being set to 0.0 in labels with no true samples. Use `zero_division` parameter to control this behavior.\n",
            "  _warn_prf(average, modifier, msg_start, len(result))\n",
            "/usr/local/lib/python3.10/dist-packages/sklearn/metrics/_classification.py:1344: UndefinedMetricWarning: Recall and F-score are ill-defined and being set to 0.0 in labels with no true samples. Use `zero_division` parameter to control this behavior.\n",
            "  _warn_prf(average, modifier, msg_start, len(result))\n"
          ]
        }
      ],
      "source": [
        "print(classification_report(y_pred, test_labels))"
      ]
    },
    {
      "cell_type": "code",
      "source": [
        "from sklearn.metrics import confusion_matrix\n",
        "\n",
        "conf_matrix = confusion_matrix(test_labels, y_pred)\n",
        "\n",
        "conf_matrix"
      ],
      "metadata": {
        "colab": {
          "base_uri": "https://localhost:8080/"
        },
        "id": "zM5PjccQzmXn",
        "outputId": "6dd581ff-a42d-4ad3-cb86-f2be1d887fb6"
      },
      "execution_count": 14,
      "outputs": [
        {
          "output_type": "execute_result",
          "data": {
            "text/plain": [
              "array([[6, 0, 0, 0, 0, 0, 0, 0, 0, 0],\n",
              "       [0, 9, 0, 1, 0, 0, 0, 0, 0, 0],\n",
              "       [0, 1, 1, 2, 0, 0, 0, 0, 0, 1],\n",
              "       [0, 0, 0, 6, 0, 0, 0, 0, 0, 0],\n",
              "       [1, 0, 0, 0, 9, 0, 0, 0, 0, 0],\n",
              "       [0, 1, 0, 3, 2, 0, 0, 0, 0, 1],\n",
              "       [1, 1, 0, 0, 2, 0, 1, 0, 0, 0],\n",
              "       [0, 0, 0, 1, 0, 0, 0, 0, 0, 6],\n",
              "       [0, 0, 0, 0, 0, 0, 0, 0, 1, 0],\n",
              "       [0, 0, 0, 0, 2, 0, 0, 0, 0, 5]])"
            ]
          },
          "metadata": {},
          "execution_count": 14
        }
      ]
    },
    {
      "cell_type": "markdown",
      "metadata": {
        "id": "2jx1ioMnCqC3"
      },
      "source": [
        "# MLP"
      ]
    },
    {
      "cell_type": "code",
      "execution_count": 15,
      "metadata": {
        "id": "dh_cQPsCCu7Y"
      },
      "outputs": [],
      "source": [
        "from sklearn.neural_network import MLPClassifier\n",
        "\n",
        "clf_mlp = MLPClassifier(random_state=1, max_iter=300).fit(x_train, train_labels)"
      ]
    },
    {
      "cell_type": "code",
      "execution_count": 20,
      "metadata": {
        "colab": {
          "base_uri": "https://localhost:8080/"
        },
        "id": "ZGRq-g7OIU8b",
        "outputId": "ddd43b63-2a7b-4bfb-fde8-b1af80f00b14"
      },
      "outputs": [
        {
          "output_type": "execute_result",
          "data": {
            "text/plain": [
              "array([7, 3, 1, 0, 4, 1, 4, 9, 1, 4, 0, 4, 9, 0, 1, 3, 9, 3, 3, 9, 9, 6,\n",
              "       4, 8, 4, 0, 9, 4, 0, 1, 3, 1, 3, 0, 9, 2, 2, 1, 2, 1, 1, 9, 4, 1,\n",
              "       3, 5, 3, 2, 4, 4, 6, 3, 4, 3, 2, 8, 4, 1, 9, 4, 9, 8, 9, 3])"
            ]
          },
          "metadata": {},
          "execution_count": 20
        }
      ],
      "source": [
        "predictions = clf_mlp.predict(x_test)\n",
        "predictions"
      ]
    },
    {
      "cell_type": "markdown",
      "metadata": {
        "id": "qz6oLkC0KQq6"
      },
      "source": [
        "Visualizando algumas da predictions"
      ]
    },
    {
      "cell_type": "code",
      "execution_count": 17,
      "metadata": {
        "colab": {
          "base_uri": "https://localhost:8080/",
          "height": 1000
        },
        "id": "e9FFj9kiJKTq",
        "outputId": "40f1d2be-581b-4b5f-80ba-2ba46e56b007"
      },
      "outputs": [
        {
          "output_type": "display_data",
          "data": {
            "text/plain": [
              "<Figure size 640x480 with 1 Axes>"
            ],
            "image/png": "[encoded data removed]"
          },
          "metadata": {}
        },
        {
          "output_type": "stream",
          "name": "stdout",
          "text": [
            "Prediction: 7\n"
          ]
        },
        {
          "output_type": "display_data",
          "data": {
            "text/plain": [
              "<Figure size 640x480 with 1 Axes>"
            ],
            "image/png": "[encoded data removed]"
          },
          "metadata": {}
        },
        {
          "output_type": "stream",
          "name": "stdout",
          "text": [
            "Prediction: 3\n"
          ]
        },
        {
          "output_type": "display_data",
          "data": {
            "text/plain": [
              "<Figure size 640x480 with 1 Axes>"
            ],
            "image/png": "[encoded data removed]"
          },
          "metadata": {}
        },
        {
          "output_type": "stream",
          "name": "stdout",
          "text": [
            "Prediction: 1\n"
          ]
        },
        {
          "output_type": "display_data",
          "data": {
            "text/plain": [
              "<Figure size 640x480 with 1 Axes>"
            ],
            "image/png": "[encoded data removed]"
          },
          "metadata": {}
        },
        {
          "output_type": "stream",
          "name": "stdout",
          "text": [
            "Prediction: 0\n"
          ]
        }
      ],
      "source": [
        "for i in range(len(predictions)):\n",
        "  img = test_features[i].squeeze()\n",
        "  label = predictions[i]\n",
        "  plt.imshow(img, cmap=\"gray\")\n",
        "  plt.show()\n",
        "  print(f\"Prediction: {label}\")\n",
        "\n",
        "  if i == 3: break"
      ]
    },
    {
      "cell_type": "code",
      "execution_count": 21,
      "metadata": {
        "colab": {
          "base_uri": "https://localhost:8080/"
        },
        "id": "1YEUzlecIdP9",
        "outputId": "9326e39e-34bf-4cb5-f0e0-619457430ff9"
      },
      "outputs": [
        {
          "output_type": "execute_result",
          "data": {
            "text/plain": [
              "0.65625"
            ]
          },
          "metadata": {},
          "execution_count": 21
        }
      ],
      "source": [
        "clf_mlp.score(x_test, test_labels)"
      ]
    },
    {
      "cell_type": "code",
      "source": [
        "loss_values = clf_mlp.loss_curve_\n",
        "plt.plot(loss_values)\n",
        "plt.show()"
      ],
      "metadata": {
        "colab": {
          "base_uri": "https://localhost:8080/",
          "height": 430
        },
        "id": "ojneUsAbUgFo",
        "outputId": "65c84f18-2a0a-43f3-a77e-f3ff8a961c9d"
      },
      "execution_count": 25,
      "outputs": [
        {
          "output_type": "display_data",
          "data": {
            "text/plain": [
              "<Figure size 640x480 with 1 Axes>"
            ],
            "image/png": "[encoded data removed]"
          },
          "metadata": {}
        }
      ]
    },
    {
      "cell_type": "code",
      "source": [
        "print(classification_report(predictions, test_labels))"
      ],
      "metadata": {
        "colab": {
          "base_uri": "https://localhost:8080/"
        },
        "id": "T67Z1gimTO_D",
        "outputId": "f3535554-e5b0-4745-8eb5-49a48db651b6"
      },
      "execution_count": 22,
      "outputs": [
        {
          "output_type": "stream",
          "name": "stdout",
          "text": [
            "              precision    recall  f1-score   support\n",
            "\n",
            "           0       0.83      0.83      0.83         6\n",
            "           1       0.90      0.82      0.86        11\n",
            "           2       0.60      0.60      0.60         5\n",
            "           3       1.00      0.55      0.71        11\n",
            "           4       0.80      0.62      0.70        13\n",
            "           5       0.14      1.00      0.25         1\n",
            "           6       0.40      1.00      0.57         2\n",
            "           7       0.14      1.00      0.25         1\n",
            "           8       1.00      0.33      0.50         3\n",
            "           9       0.86      0.55      0.67        11\n",
            "\n",
            "    accuracy                           0.66        64\n",
            "   macro avg       0.67      0.73      0.59        64\n",
            "weighted avg       0.83      0.66      0.70        64\n",
            "\n"
          ]
        }
      ]
    },
    {
      "cell_type": "markdown",
      "metadata": {
        "id": "3zV0XIuwCvbL"
      },
      "source": [
        "# Rede Convolucional"
      ]
    },
    {
      "cell_type": "code",
      "execution_count": 27,
      "metadata": {
        "id": "3aJYFL6VUP1E"
      },
      "outputs": [],
      "source": [
        "input_size = 784 # img_size = (28,28) ---> 28*28=784 in total\n",
        "hidden_size = 500 # number of nodes at hidden layer\n",
        "num_classes = 10 # number of output classes discrete range [0,9]\n",
        "num_epochs = 20 # number of times which the entire dataset is passed throughout the model\n",
        "batch_size = 64 # the size of input data took for one iteration\n",
        "lr = 1e-3 # size of step"
      ]
    },
    {
      "cell_type": "code",
      "execution_count": 28,
      "metadata": {
        "id": "2WCbrZzJC1oz"
      },
      "outputs": [],
      "source": [
        "class Net(nn.Module):\n",
        "  def __init__(self, input_size, hidden_size, num_classes):\n",
        "    super(Net,self).__init__()\n",
        "    self.fc1 = nn.Linear(input_size, hidden_size)\n",
        "    self.relu = nn.ReLU()\n",
        "    self.fc2 = nn.Linear(hidden_size, num_classes)\n",
        "\n",
        "  def forward(self,x):\n",
        "    out = self.fc1(x)\n",
        "    out = self.relu(out)\n",
        "    out = self.fc2(out)\n",
        "    return out"
      ]
    },
    {
      "cell_type": "code",
      "execution_count": 29,
      "metadata": {
        "id": "xo2R-jU5UHcb"
      },
      "outputs": [],
      "source": [
        "net = Net(input_size, hidden_size, num_classes)\n",
        "if torch.cuda.is_available():\n",
        "  net.cuda()"
      ]
    },
    {
      "cell_type": "code",
      "execution_count": null,
      "metadata": {
        "colab": {
          "base_uri": "https://localhost:8080/"
        },
        "id": "UoSDY3RxU1JO",
        "outputId": "9f3b4a41-4247-4f3a-ae54-8f08fdb72005"
      },
      "outputs": [
        {
          "output_type": "stream",
          "name": "stdout",
          "text": [
            "2.0.1+cu118 True\n"
          ]
        }
      ],
      "source": [
        "print(torch.__version__, torch.cuda.is_available())"
      ]
    },
    {
      "cell_type": "code",
      "execution_count": 30,
      "metadata": {
        "id": "j3P8HsvdUY3r"
      },
      "outputs": [],
      "source": [
        "loss_function = nn.CrossEntropyLoss()\n",
        "optimizer = torch.optim.Adam( net.parameters(), lr=lr)"
      ]
    },
    {
      "cell_type": "markdown",
      "metadata": {
        "id": "IOTE17WWUbEI"
      },
      "source": [
        "### Training"
      ]
    },
    {
      "cell_type": "markdown",
      "metadata": {
        "id": "QInZ0jvwoZn0"
      },
      "source": [
        "**Colocar ambiente de GPU para fazer funcionar**"
      ]
    },
    {
      "cell_type": "code",
      "execution_count": 32,
      "metadata": {
        "colab": {
          "base_uri": "https://localhost:8080/"
        },
        "id": "qOyWsRDFUcix",
        "outputId": "ab01bccf-a66d-4686-d06d-05963ec514e9"
      },
      "outputs": [
        {
          "output_type": "stream",
          "name": "stdout",
          "text": [
            "Epoch [1/20], Step [100/937], Loss: 0.3866\n",
            "Epoch [1/20], Step [200/937], Loss: 0.1992\n",
            "Epoch [1/20], Step [300/937], Loss: 0.3025\n",
            "Epoch [1/20], Step [400/937], Loss: 0.3346\n",
            "Epoch [1/20], Step [500/937], Loss: 0.2813\n",
            "Epoch [1/20], Step [600/937], Loss: 0.0854\n",
            "Epoch [1/20], Step [700/937], Loss: 0.0904\n",
            "Epoch [1/20], Step [800/937], Loss: 0.0520\n",
            "Epoch [1/20], Step [900/937], Loss: 0.0767\n",
            "Epoch [2/20], Step [100/937], Loss: 0.0576\n",
            "Epoch [2/20], Step [200/937], Loss: 0.0324\n",
            "Epoch [2/20], Step [300/937], Loss: 0.1171\n",
            "Epoch [2/20], Step [400/937], Loss: 0.2298\n",
            "Epoch [2/20], Step [500/937], Loss: 0.1172\n",
            "Epoch [2/20], Step [600/937], Loss: 0.1863\n",
            "Epoch [2/20], Step [700/937], Loss: 0.1854\n",
            "Epoch [2/20], Step [800/937], Loss: 0.0804\n",
            "Epoch [2/20], Step [900/937], Loss: 0.0776\n",
            "Epoch [3/20], Step [100/937], Loss: 0.1189\n",
            "Epoch [3/20], Step [200/937], Loss: 0.1553\n",
            "Epoch [3/20], Step [300/937], Loss: 0.0566\n",
            "Epoch [3/20], Step [400/937], Loss: 0.0850\n",
            "Epoch [3/20], Step [500/937], Loss: 0.0381\n",
            "Epoch [3/20], Step [600/937], Loss: 0.0773\n",
            "Epoch [3/20], Step [700/937], Loss: 0.0355\n",
            "Epoch [3/20], Step [800/937], Loss: 0.1386\n",
            "Epoch [3/20], Step [900/937], Loss: 0.0928\n",
            "Epoch [4/20], Step [100/937], Loss: 0.1011\n",
            "Epoch [4/20], Step [200/937], Loss: 0.0961\n",
            "Epoch [4/20], Step [300/937], Loss: 0.0212\n",
            "Epoch [4/20], Step [400/937], Loss: 0.0049\n",
            "Epoch [4/20], Step [500/937], Loss: 0.0787\n",
            "Epoch [4/20], Step [600/937], Loss: 0.0643\n",
            "Epoch [4/20], Step [700/937], Loss: 0.0049\n",
            "Epoch [4/20], Step [800/937], Loss: 0.0473\n",
            "Epoch [4/20], Step [900/937], Loss: 0.0454\n",
            "Epoch [5/20], Step [100/937], Loss: 0.0058\n",
            "Epoch [5/20], Step [200/937], Loss: 0.0285\n",
            "Epoch [5/20], Step [300/937], Loss: 0.0078\n",
            "Epoch [5/20], Step [400/937], Loss: 0.0289\n",
            "Epoch [5/20], Step [500/937], Loss: 0.0199\n",
            "Epoch [5/20], Step [600/937], Loss: 0.1031\n",
            "Epoch [5/20], Step [700/937], Loss: 0.0825\n",
            "Epoch [5/20], Step [800/937], Loss: 0.0184\n",
            "Epoch [5/20], Step [900/937], Loss: 0.0287\n",
            "Epoch [6/20], Step [100/937], Loss: 0.0388\n",
            "Epoch [6/20], Step [200/937], Loss: 0.0030\n",
            "Epoch [6/20], Step [300/937], Loss: 0.0372\n",
            "Epoch [6/20], Step [400/937], Loss: 0.0100\n",
            "Epoch [6/20], Step [500/937], Loss: 0.0087\n",
            "Epoch [6/20], Step [600/937], Loss: 0.0466\n",
            "Epoch [6/20], Step [700/937], Loss: 0.0173\n",
            "Epoch [6/20], Step [800/937], Loss: 0.0129\n",
            "Epoch [6/20], Step [900/937], Loss: 0.0232\n",
            "Epoch [7/20], Step [100/937], Loss: 0.0090\n",
            "Epoch [7/20], Step [200/937], Loss: 0.0444\n",
            "Epoch [7/20], Step [300/937], Loss: 0.0042\n",
            "Epoch [7/20], Step [400/937], Loss: 0.0195\n",
            "Epoch [7/20], Step [500/937], Loss: 0.0078\n",
            "Epoch [7/20], Step [600/937], Loss: 0.0061\n",
            "Epoch [7/20], Step [700/937], Loss: 0.0398\n",
            "Epoch [7/20], Step [800/937], Loss: 0.0252\n",
            "Epoch [7/20], Step [900/937], Loss: 0.0057\n",
            "Epoch [8/20], Step [100/937], Loss: 0.0150\n",
            "Epoch [8/20], Step [200/937], Loss: 0.0168\n",
            "Epoch [8/20], Step [300/937], Loss: 0.0030\n",
            "Epoch [8/20], Step [400/937], Loss: 0.0029\n",
            "Epoch [8/20], Step [500/937], Loss: 0.0018\n",
            "Epoch [8/20], Step [600/937], Loss: 0.0108\n",
            "Epoch [8/20], Step [700/937], Loss: 0.0192\n",
            "Epoch [8/20], Step [800/937], Loss: 0.0276\n",
            "Epoch [8/20], Step [900/937], Loss: 0.0233\n",
            "Epoch [9/20], Step [100/937], Loss: 0.0007\n",
            "Epoch [9/20], Step [200/937], Loss: 0.0064\n",
            "Epoch [9/20], Step [300/937], Loss: 0.0129\n",
            "Epoch [9/20], Step [400/937], Loss: 0.0049\n",
            "Epoch [9/20], Step [500/937], Loss: 0.0026\n",
            "Epoch [9/20], Step [600/937], Loss: 0.0017\n",
            "Epoch [9/20], Step [700/937], Loss: 0.0005\n",
            "Epoch [9/20], Step [800/937], Loss: 0.0140\n",
            "Epoch [9/20], Step [900/937], Loss: 0.0009\n",
            "Epoch [10/20], Step [100/937], Loss: 0.0043\n",
            "Epoch [10/20], Step [200/937], Loss: 0.0078\n",
            "Epoch [10/20], Step [300/937], Loss: 0.0034\n",
            "Epoch [10/20], Step [400/937], Loss: 0.0185\n",
            "Epoch [10/20], Step [500/937], Loss: 0.0044\n",
            "Epoch [10/20], Step [600/937], Loss: 0.0095\n",
            "Epoch [10/20], Step [700/937], Loss: 0.0291\n",
            "Epoch [10/20], Step [800/937], Loss: 0.0028\n",
            "Epoch [10/20], Step [900/937], Loss: 0.0040\n",
            "Epoch [11/20], Step [100/937], Loss: 0.0006\n",
            "Epoch [11/20], Step [200/937], Loss: 0.0094\n",
            "Epoch [11/20], Step [300/937], Loss: 0.0034\n",
            "Epoch [11/20], Step [400/937], Loss: 0.0053\n",
            "Epoch [11/20], Step [500/937], Loss: 0.0005\n",
            "Epoch [11/20], Step [600/937], Loss: 0.0044\n",
            "Epoch [11/20], Step [700/937], Loss: 0.0035\n",
            "Epoch [11/20], Step [800/937], Loss: 0.0007\n",
            "Epoch [11/20], Step [900/937], Loss: 0.0040\n",
            "Epoch [12/20], Step [100/937], Loss: 0.0097\n",
            "Epoch [12/20], Step [200/937], Loss: 0.0020\n",
            "Epoch [12/20], Step [300/937], Loss: 0.0018\n",
            "Epoch [12/20], Step [400/937], Loss: 0.0008\n",
            "Epoch [12/20], Step [500/937], Loss: 0.0005\n",
            "Epoch [12/20], Step [600/937], Loss: 0.0066\n",
            "Epoch [12/20], Step [700/937], Loss: 0.0002\n",
            "Epoch [12/20], Step [800/937], Loss: 0.0394\n",
            "Epoch [12/20], Step [900/937], Loss: 0.0055\n",
            "Epoch [13/20], Step [100/937], Loss: 0.0109\n",
            "Epoch [13/20], Step [200/937], Loss: 0.0040\n",
            "Epoch [13/20], Step [300/937], Loss: 0.0012\n",
            "Epoch [13/20], Step [400/937], Loss: 0.0007\n",
            "Epoch [13/20], Step [500/937], Loss: 0.0008\n",
            "Epoch [13/20], Step [600/937], Loss: 0.0012\n",
            "Epoch [13/20], Step [700/937], Loss: 0.0138\n",
            "Epoch [13/20], Step [800/937], Loss: 0.0041\n",
            "Epoch [13/20], Step [900/937], Loss: 0.0097\n",
            "Epoch [14/20], Step [100/937], Loss: 0.0027\n",
            "Epoch [14/20], Step [200/937], Loss: 0.0000\n",
            "Epoch [14/20], Step [300/937], Loss: 0.0010\n",
            "Epoch [14/20], Step [400/937], Loss: 0.0002\n",
            "Epoch [14/20], Step [500/937], Loss: 0.0072\n",
            "Epoch [14/20], Step [600/937], Loss: 0.0319\n",
            "Epoch [14/20], Step [700/937], Loss: 0.0059\n",
            "Epoch [14/20], Step [800/937], Loss: 0.0021\n",
            "Epoch [14/20], Step [900/937], Loss: 0.0029\n",
            "Epoch [15/20], Step [100/937], Loss: 0.0011\n",
            "Epoch [15/20], Step [200/937], Loss: 0.0003\n",
            "Epoch [15/20], Step [300/937], Loss: 0.0130\n",
            "Epoch [15/20], Step [400/937], Loss: 0.0040\n",
            "Epoch [15/20], Step [500/937], Loss: 0.0007\n",
            "Epoch [15/20], Step [600/937], Loss: 0.0005\n",
            "Epoch [15/20], Step [700/937], Loss: 0.0002\n",
            "Epoch [15/20], Step [800/937], Loss: 0.0047\n",
            "Epoch [15/20], Step [900/937], Loss: 0.0024\n",
            "Epoch [16/20], Step [100/937], Loss: 0.0002\n",
            "Epoch [16/20], Step [200/937], Loss: 0.0004\n",
            "Epoch [16/20], Step [300/937], Loss: 0.0220\n",
            "Epoch [16/20], Step [400/937], Loss: 0.0267\n",
            "Epoch [16/20], Step [500/937], Loss: 0.0003\n",
            "Epoch [16/20], Step [600/937], Loss: 0.0016\n",
            "Epoch [16/20], Step [700/937], Loss: 0.0053\n",
            "Epoch [16/20], Step [800/937], Loss: 0.0005\n",
            "Epoch [16/20], Step [900/937], Loss: 0.0001\n",
            "Epoch [17/20], Step [100/937], Loss: 0.0001\n",
            "Epoch [17/20], Step [200/937], Loss: 0.0004\n",
            "Epoch [17/20], Step [300/937], Loss: 0.0003\n",
            "Epoch [17/20], Step [400/937], Loss: 0.0000\n",
            "Epoch [17/20], Step [500/937], Loss: 0.0004\n",
            "Epoch [17/20], Step [600/937], Loss: 0.0280\n",
            "Epoch [17/20], Step [700/937], Loss: 0.0000\n",
            "Epoch [17/20], Step [800/937], Loss: 0.0082\n",
            "Epoch [17/20], Step [900/937], Loss: 0.0053\n",
            "Epoch [18/20], Step [100/937], Loss: 0.0002\n",
            "Epoch [18/20], Step [200/937], Loss: 0.0007\n",
            "Epoch [18/20], Step [300/937], Loss: 0.0001\n",
            "Epoch [18/20], Step [400/937], Loss: 0.0019\n",
            "Epoch [18/20], Step [500/937], Loss: 0.0007\n",
            "Epoch [18/20], Step [600/937], Loss: 0.0002\n",
            "Epoch [18/20], Step [700/937], Loss: 0.0021\n",
            "Epoch [18/20], Step [800/937], Loss: 0.0003\n",
            "Epoch [18/20], Step [900/937], Loss: 0.0011\n",
            "Epoch [19/20], Step [100/937], Loss: 0.0001\n",
            "Epoch [19/20], Step [200/937], Loss: 0.0000\n",
            "Epoch [19/20], Step [300/937], Loss: 0.0011\n",
            "Epoch [19/20], Step [400/937], Loss: 0.0008\n",
            "Epoch [19/20], Step [500/937], Loss: 0.0005\n",
            "Epoch [19/20], Step [600/937], Loss: 0.0000\n",
            "Epoch [19/20], Step [700/937], Loss: 0.0006\n",
            "Epoch [19/20], Step [800/937], Loss: 0.0003\n",
            "Epoch [19/20], Step [900/937], Loss: 0.0030\n",
            "Epoch [20/20], Step [100/937], Loss: 0.0002\n",
            "Epoch [20/20], Step [200/937], Loss: 0.0000\n",
            "Epoch [20/20], Step [300/937], Loss: 0.0003\n",
            "Epoch [20/20], Step [400/937], Loss: 0.0028\n",
            "Epoch [20/20], Step [500/937], Loss: 0.0000\n",
            "Epoch [20/20], Step [600/937], Loss: 0.0029\n",
            "Epoch [20/20], Step [700/937], Loss: 0.0007\n",
            "Epoch [20/20], Step [800/937], Loss: 0.0101\n",
            "Epoch [20/20], Step [900/937], Loss: 0.0036\n"
          ]
        }
      ],
      "source": [
        "for epoch in range(num_epochs):\n",
        "  for i ,(images,labels) in enumerate(train_gen):\n",
        "    images = Variable(images.view(-1,28*28)).cuda()\n",
        "    labels = Variable(labels).cuda()\n",
        "\n",
        "    optimizer.zero_grad()\n",
        "    outputs = net(images)\n",
        "    loss = loss_function(outputs, labels)\n",
        "    loss.backward()\n",
        "    optimizer.step()\n",
        "\n",
        "    if (i+1) % 100 == 0:\n",
        "      print('Epoch [%d/%d], Step [%d/%d], Loss: %.4f'\n",
        "                 %(epoch+1, num_epochs, i+1, len(train_data)//batch_size, loss.data))"
      ]
    },
    {
      "cell_type": "markdown",
      "source": [
        "Salvando a rede"
      ],
      "metadata": {
        "id": "X4Uh3BtaoZjy"
      }
    },
    {
      "cell_type": "code",
      "source": [
        "PATH = './cnn_net.pth'\n",
        "torch.save(net.state_dict(), PATH)"
      ],
      "metadata": {
        "id": "GBGwCAunh_Q4"
      },
      "execution_count": null,
      "outputs": []
    },
    {
      "cell_type": "markdown",
      "source": [
        "Para resolver eventuais problemas de ter CPU e GPU executando informações"
      ],
      "metadata": {
        "id": "mrSeWPScoc7d"
      }
    },
    {
      "cell_type": "code",
      "source": [
        "#device = torch.device('cuda:0' if torch.cuda.is_available() else 'cpu')"
      ],
      "metadata": {
        "id": "9WEkDjiwVT-h"
      },
      "execution_count": null,
      "outputs": []
    },
    {
      "cell_type": "code",
      "source": [
        "#net.to(device)"
      ],
      "metadata": {
        "id": "pilx6L2jjZvD"
      },
      "execution_count": null,
      "outputs": []
    },
    {
      "cell_type": "markdown",
      "source": [
        "### Testing"
      ],
      "metadata": {
        "id": "G2XyPG-doukd"
      }
    },
    {
      "cell_type": "code",
      "source": [
        "correct = 0\n",
        "total = 0\n",
        "accuracies_test_cnn = []\n",
        "\n",
        "for epoch in range(num_epochs):\n",
        "  for i ,(images,labels) in enumerate(test_gen):\n",
        "    images = Variable(images.view(-1,28*28)).cuda()\n",
        "    labels = Variable(labels).cuda()\n",
        "\n",
        "    optimizer.zero_grad()\n",
        "    outputs = net(images)\n",
        "\n",
        "     # the class with the highest energy is what we choose as prediction\n",
        "    _, predicted = torch.max(outputs.data, 1)\n",
        "    total += labels.size(0)\n",
        "    correct += (predicted == labels).sum().item()\n",
        "\n",
        "    accuracy_test = correct / total\n",
        "    accuracies_test_cnn.append(accuracy_test)\n",
        "\n",
        "print(f'Accuracy of the network on the test images: {100 * correct // total} %')"
      ],
      "metadata": {
        "colab": {
          "base_uri": "https://localhost:8080/"
        },
        "id": "koL1Gn5bnjDz",
        "outputId": "427285f1-6f07-44e8-96ae-0e3e316deb03"
      },
      "execution_count": 33,
      "outputs": [
        {
          "output_type": "stream",
          "name": "stdout",
          "text": [
            "Accuracy of the network on the test images: 98 %\n"
          ]
        }
      ]
    },
    {
      "cell_type": "code",
      "source": [
        "plt.figure()\n",
        "plt.plot(accuracies_test_cnn)\n",
        "plt.xlabel('Epoch')\n",
        "plt.ylabel('Test dataset accuracy')\n",
        "plt.title('Test accuracy')\n",
        "plt.show()"
      ],
      "metadata": {
        "colab": {
          "base_uri": "https://localhost:8080/",
          "height": 472
        },
        "id": "AYeRnnuzXC7c",
        "outputId": "4c027359-e03e-44b4-c6c1-3e18c120863c"
      },
      "execution_count": 38,
      "outputs": [
        {
          "output_type": "display_data",
          "data": {
            "text/plain": [
              "<Figure size 640x480 with 1 Axes>"
            ],
            "image/png": "[encoded data removed]"
          },
          "metadata": {}
        }
      ]
    },
    {
      "cell_type": "markdown",
      "metadata": {
        "id": "sUxkMdIuC1-8"
      },
      "source": [
        "# Rede Convolucional consolidada"
      ]
    },
    {
      "cell_type": "markdown",
      "metadata": {
        "id": "EnQRCVkPsDYa"
      },
      "source": [
        "Novo código"
      ]
    },
    {
      "cell_type": "code",
      "execution_count": null,
      "metadata": {
        "id": "q8bDSkPnowS0"
      },
      "outputs": [],
      "source": [
        "class VGG11(nn.Module):\n",
        "    def __init__(self, in_channels, num_classes=1000):\n",
        "        super(VGG11, self).__init__()\n",
        "        self.in_channels = in_channels\n",
        "        self.num_classes = num_classes\n",
        "        # convolutional layers\n",
        "        self.conv_layers = nn.Sequential(\n",
        "            nn.Conv2d(self.in_channels, 64, kernel_size=3, padding=1),\n",
        "            nn.ReLU(),\n",
        "            nn.MaxPool2d(kernel_size=2, stride=2),\n",
        "            nn.Conv2d(64, 128, kernel_size=3, padding=1),\n",
        "            nn.ReLU(),\n",
        "            nn.MaxPool2d(kernel_size=2, stride=2),\n",
        "            nn.Conv2d(128, 256, kernel_size=3, padding=1),\n",
        "            nn.ReLU(),\n",
        "            nn.Conv2d(256, 256, kernel_size=3, padding=1),\n",
        "            nn.ReLU(),\n",
        "            nn.MaxPool2d(kernel_size=2, stride=2),\n",
        "            nn.Conv2d(256, 512, kernel_size=3, padding=1),\n",
        "            nn.ReLU(),\n",
        "            nn.Conv2d(512, 512, kernel_size=3, padding=1),\n",
        "            nn.ReLU(),\n",
        "            nn.MaxPool2d(kernel_size=2, stride=2),\n",
        "            nn.Conv2d(512, 512, kernel_size=3, padding=1),\n",
        "            nn.ReLU(),\n",
        "            nn.Conv2d(512, 512, kernel_size=3, padding=1),\n",
        "            nn.ReLU(),\n",
        "            nn.MaxPool2d(kernel_size=2, stride=2)\n",
        "        )\n",
        "        # fully connected linear layers\n",
        "        self.linear_layers = nn.Sequential(\n",
        "            nn.Linear(in_features=512*7*7, out_features=4096),\n",
        "            nn.ReLU(),\n",
        "            nn.Dropout2d(0.5),\n",
        "            nn.Linear(in_features=4096, out_features=4096),\n",
        "            nn.ReLU(),\n",
        "            nn.Dropout2d(0.5),\n",
        "            nn.Linear(in_features=4096, out_features=self.num_classes)\n",
        "        )\n",
        "\n",
        "    def forward(self, x):\n",
        "        x = self.conv_layers(x)\n",
        "        # flatten to prepare for the fully connected layers\n",
        "        x = x.view(x.size(0), -1)\n",
        "        x = self.linear_layers(x)\n",
        "        return x"
      ]
    },
    {
      "cell_type": "code",
      "execution_count": null,
      "metadata": {
        "id": "orY3lIcDpHzS"
      },
      "outputs": [],
      "source": [
        "import torch\n",
        "import torchvision\n",
        "import torchvision.transforms as transforms\n",
        "import matplotlib.pyplot as plt\n",
        "import matplotlib\n",
        "import torch.nn as nn\n",
        "import torch.optim as optim\n",
        "\n",
        "from tqdm import tqdm\n",
        "\n",
        "matplotlib.style.use('ggplot')\n",
        "\n",
        "device = torch.device('cuda' if torch.cuda.is_available() else 'cpu')\n",
        "print(f\"[INFO]: Computation device: {device}\")\n",
        "epochs = 10\n",
        "batch_size = 32\n",
        "\n",
        "# our transforms will differ a bit from the VGG paper\n",
        "# as we are using the MNIST dataset, so, we will directly resize...\n",
        "# ... the images to 224x224 and not crop them and we will not use...\n",
        "# ... any random flippings also\n",
        "train_transform = transforms.Compose(\n",
        "    [transforms.Resize((224, 224)),\n",
        "     transforms.ToTensor(),\n",
        "     transforms.Normalize(mean=(0.5), std=(0.5))])\n",
        "valid_transform = transforms.Compose(\n",
        "    [transforms.Resize((224, 224)),\n",
        "     transforms.ToTensor(),\n",
        "     transforms.Normalize(mean=(0.5), std=(0.5))])\n",
        "\n",
        "# training dataset and data loader\n",
        "train_dataset = torchvision.datasets.MNIST(root='./data', train=True,\n",
        "                                             download=True,\n",
        "                                             transform=train_transform)\n",
        "train_dataloader = torch.utils.data.DataLoader(train_dataset,\n",
        "                                               batch_size=batch_size,\n",
        "                                               shuffle=True)\n",
        "# validation dataset and dataloader\n",
        "valid_dataset = torchvision.datasets.MNIST(root='./data', train=False,\n",
        "                                           download=True,\n",
        "                                           transform=valid_transform)\n",
        "valid_dataloader = torch.utils.data.DataLoader(valid_dataset,\n",
        "                                             batch_size=batch_size,\n",
        "                                             shuffle=False)\n",
        "\n",
        "# instantiate the model\n",
        "model = VGG11(in_channels=1, num_classes=10).to(device)\n",
        "# total parameters and trainable parameters\n",
        "total_params = sum(p.numel() for p in model.parameters())\n",
        "print(f\"[INFO]: {total_params:,} total parameters.\")\n",
        "total_trainable_params = sum(\n",
        "    p.numel() for p in model.parameters() if p.requires_grad)\n",
        "print(f\"[INFO]: {total_trainable_params:,} trainable parameters.\")\n",
        "\n",
        "# the loss function\n",
        "criterion = nn.CrossEntropyLoss()\n",
        "# the optimizer\n",
        "optimizer = optim.SGD(model.parameters(), lr=0.01, momentum=0.9,\n",
        "                      weight_decay=0.0005)\n",
        "\n",
        "# training\n",
        "def train(model, trainloader, optimizer, criterion):\n",
        "    model.train()\n",
        "    print('Training')\n",
        "    train_running_loss = 0.0\n",
        "    train_running_correct = 0\n",
        "    counter = 0\n",
        "    for i, data in tqdm(enumerate(trainloader), total=len(trainloader)):\n",
        "        counter += 1\n",
        "\n",
        "        image, labels = data\n",
        "        image = image.to(device)\n",
        "        labels = labels.to(device)\n",
        "\n",
        "        optimizer.zero_grad()\n",
        "        # forward pass\n",
        "        outputs = model(image)\n",
        "        # calculate the loss\n",
        "        loss = criterion(outputs, labels)\n",
        "        train_running_loss += loss.item()\n",
        "        # calculate the accuracy\n",
        "        _, preds = torch.max(outputs.data, 1)\n",
        "        train_running_correct += (preds == labels).sum().item()\n",
        "        loss.backward()\n",
        "        optimizer.step()\n",
        "\n",
        "    epoch_loss = train_running_loss / counter\n",
        "    epoch_acc = 100. * (train_running_correct / len(trainloader.dataset))\n",
        "    return epoch_loss, epoch_acc\n",
        "\n",
        "# validation\n",
        "def validate(model, testloader, criterion):\n",
        "    model.eval()\n",
        "\n",
        "    # we need two lists to keep track of class-wise accuracy\n",
        "    class_correct = list(0. for i in range(10))\n",
        "    class_total = list(0. for i in range(10))\n",
        "\n",
        "    print('Validation')\n",
        "    valid_running_loss = 0.0\n",
        "    valid_running_correct = 0\n",
        "    counter = 0\n",
        "    with torch.no_grad():\n",
        "        for i, data in tqdm(enumerate(testloader), total=len(testloader)):\n",
        "            counter += 1\n",
        "\n",
        "            image, labels = data\n",
        "            image = image.to(device)\n",
        "            labels = labels.to(device)\n",
        "\n",
        "            # forward pass\n",
        "            outputs = model(image)\n",
        "            # calculate the loss\n",
        "            loss = criterion(outputs, labels)\n",
        "            valid_running_loss += loss.item()\n",
        "            # calculate the accuracy\n",
        "            _, preds = torch.max(outputs.data, 1)\n",
        "            valid_running_correct += (preds == labels).sum().item()\n",
        "\n",
        "            # calculate the accuracy for each class\n",
        "            correct  = (preds == labels).squeeze()\n",
        "            for i in range(len(preds)):\n",
        "                label = labels[i]\n",
        "                class_correct[label] += correct[i].item()\n",
        "                class_total[label] += 1\n",
        "\n",
        "    epoch_loss = valid_running_loss / counter\n",
        "    epoch_acc = 100. * (valid_running_correct / len(testloader.dataset))\n",
        "\n",
        "    # print the accuracy for each class after evey epoch\n",
        "    # the values should increase as the training goes on\n",
        "    print('\\n')\n",
        "    for i in range(10):\n",
        "        print(f\"Accuracy of digit {i}: {100*class_correct[i]/class_total[i]}\")\n",
        "\n",
        "    return epoch_loss, epoch_acc\n",
        "\n",
        "# start the training\n",
        "# lists to keep track of losses and accuracies\n",
        "train_loss, valid_loss = [], []\n",
        "train_acc, valid_acc = [], []\n",
        "for epoch in range(epochs):\n",
        "    print(f\"[INFO]: Epoch {epoch+1} of {epochs}\")\n",
        "\n",
        "    train_epoch_loss, train_epoch_acc = train(model, train_dataloader,\n",
        "                                              optimizer, criterion)\n",
        "    valid_epoch_loss, valid_epoch_acc = validate(model, valid_dataloader,\n",
        "                                                 criterion)\n",
        "    train_loss.append(train_epoch_loss)\n",
        "    valid_loss.append(valid_epoch_loss)\n",
        "    train_acc.append(train_epoch_acc)\n",
        "    valid_acc.append(valid_epoch_acc)\n",
        "\n",
        "    print('\\n')\n",
        "    print(f\"Training loss: {train_epoch_loss:.3f}, training acc: {train_epoch_acc:.3f}\")\n",
        "    print(f\"Validation loss: {valid_epoch_loss:.3f}, validation acc: {valid_epoch_acc:.3f}\")\n",
        "\n",
        "    print('-'*50)\n",
        "\n",
        "# save the trained model to disk\n",
        "torch.save({\n",
        "            'epoch': epochs,\n",
        "            'model_state_dict': model.state_dict(),\n",
        "            'optimizer_state_dict': optimizer.state_dict(),\n",
        "            'loss': criterion,\n",
        "            }, '../outputs/model.pth')\n",
        "\n",
        "# accuracy plots\n",
        "plt.figure(figsize=(10, 7))\n",
        "plt.plot(\n",
        "    train_acc, color='green', linestyle='-',\n",
        "    label='train accuracy'\n",
        ")\n",
        "plt.plot(\n",
        "    valid_acc, color='blue', linestyle='-',\n",
        "    label='validataion accuracy'\n",
        ")\n",
        "plt.xlabel('Epochs')\n",
        "plt.ylabel('Accuracy')\n",
        "plt.legend()\n",
        "plt.savefig('../outputs/accuracy.jpg')\n",
        "plt.show()\n",
        "# loss plots\n",
        "plt.figure(figsize=(10, 7))\n",
        "plt.plot(\n",
        "    train_loss, color='orange', linestyle='-',\n",
        "    label='train loss'\n",
        ")\n",
        "plt.plot(\n",
        "    valid_loss, color='red', linestyle='-',\n",
        "    label='validataion loss'\n",
        ")\n",
        "plt.xlabel('Epochs')\n",
        "plt.ylabel('Loss')\n",
        "plt.legend()\n",
        "plt.savefig('../outputs/loss.jpg')\n",
        "plt.show()\n",
        "\n",
        "print('TRAINING COMPLETE')"
      ]
    },
    {
      "cell_type": "markdown",
      "metadata": {
        "id": "5GZX86XAsQj6"
      },
      "source": [
        "Código anterior"
      ]
    },
    {
      "cell_type": "code",
      "execution_count": null,
      "metadata": {
        "id": "dwZy2JJKyiOj"
      },
      "outputs": [],
      "source": [
        "class VGG(nn.Module):\n",
        "    def __init__(self, num_classes=10):\n",
        "        super(VGG, self).__init__()\n",
        "        self.net = nn.Sequential(\n",
        "            nn.Conv2d(1, 32, kernel_size=3, padding=1),\n",
        "            nn.ReLU(),\n",
        "            nn.Conv2d(32, 64, kernel_size=3, padding=1),\n",
        "            nn.ReLU(),\n",
        "            nn.MaxPool2d(kernel_size=2, stride=2),\n",
        "            nn.Conv2d(64, 128, kernel_size=3, padding=1),\n",
        "            nn.ReLU(),\n",
        "            nn.Conv2d(128, 128, kernel_size=3, padding=1),\n",
        "            nn.ReLU(),\n",
        "            nn.MaxPool2d(kernel_size=2, stride=2),\n",
        "            nn.Flatten(),\n",
        "            nn.Linear(7 * 7 * 128, 512),\n",
        "            nn.ReLU(),\n",
        "            nn.Dropout(0.5),\n",
        "            nn.Linear(512, num_classes)\n",
        "        )\n",
        "\n",
        "    def forward(self, x):\n",
        "        return self.net(x)\n",
        "\n",
        "model = VGG(num_classes=10)\n"
      ]
    },
    {
      "cell_type": "code",
      "execution_count": null,
      "metadata": {
        "id": "ysfZzzxQz_cH"
      },
      "outputs": [],
      "source": [
        "criterion = nn.CrossEntropyLoss()\n",
        "optimizer = torch.optim.Adam(model.parameters(), lr=0.001)"
      ]
    },
    {
      "cell_type": "code",
      "execution_count": null,
      "metadata": {
        "colab": {
          "base_uri": "https://localhost:8080/"
        },
        "id": "5svXr7Fe3qPC",
        "outputId": "01473f90-9f2b-4b25-d9a6-608eec784ec1"
      },
      "outputs": [
        {
          "output_type": "stream",
          "name": "stdout",
          "text": [
            "Epoch 1/10, Loss: 0.1542\n",
            "Epoch 2/10, Loss: 0.0498\n",
            "Epoch 3/10, Loss: 0.0363\n",
            "Epoch 4/10, Loss: 0.0266\n",
            "Epoch 5/10, Loss: 0.0243\n",
            "Epoch 6/10, Loss: 0.0195\n",
            "Epoch 7/10, Loss: 0.0169\n",
            "Epoch 8/10, Loss: 0.0153\n",
            "Epoch 9/10, Loss: 0.0127\n",
            "Epoch 10/10, Loss: 0.0112\n"
          ]
        }
      ],
      "source": [
        "num_epochs = 10\n",
        "total_correct = 0\n",
        "total_samples = 0\n",
        "accuracies = []\n",
        "\n",
        "for epoch in range(num_epochs):\n",
        "    model.train()\n",
        "    running_loss = 0.0\n",
        "\n",
        "    for inputs, labels in train_gen:\n",
        "        optimizer.zero_grad()\n",
        "        outputs = model(inputs)\n",
        "        loss = criterion(outputs, labels)\n",
        "        loss.backward()\n",
        "        optimizer.step()\n",
        "\n",
        "        running_loss += loss.item()\n",
        "        _, predicted = torch.max(outputs, 1)\n",
        "        total_correct += (predicted == labels).sum().item()\n",
        "        total_samples += labels.size(0)\n",
        "\n",
        "    accuracy_train = total_correct / total_samples\n",
        "    accuracies.append(accuracy_train)\n",
        "    print(f'Epoch {epoch + 1}/{num_epochs}, Loss: {running_loss/len(train_gen):.4f}')\n",
        "\n",
        "\n"
      ]
    },
    {
      "cell_type": "code",
      "source": [
        "plt.figure()\n",
        "plt.plot(range(1, num_epochs + 1), accuracies, marker='o')\n",
        "plt.xlabel('Epoch')\n",
        "plt.ylabel('Training dataset accuracy')\n",
        "plt.title('Training accuracy')\n",
        "plt.grid(True)\n",
        "plt.xticks(range(1, num_epochs + 1))\n",
        "plt.show()"
      ],
      "metadata": {
        "colab": {
          "base_uri": "https://localhost:8080/",
          "height": 472
        },
        "id": "rYojq1QKjdDN",
        "outputId": "2aec889f-4309-4733-8452-ba8796cac545"
      },
      "execution_count": null,
      "outputs": [
        {
          "output_type": "display_data",
          "data": {
            "text/plain": [
              "<Figure size 640x480 with 1 Axes>"
            ],
            "image/png": "[encoded data removed]"
          },
          "metadata": {}
        }
      ]
    },
    {
      "cell_type": "code",
      "execution_count": null,
      "metadata": {
        "colab": {
          "base_uri": "https://localhost:8080/"
        },
        "id": "d5OvmF25QuNx",
        "outputId": "0fa6009c-71f2-4479-ea95-4f0e8042b821"
      },
      "outputs": [
        {
          "output_type": "stream",
          "name": "stdout",
          "text": [
            "Acurácia no conjunto de validação: 0.9927\n"
          ]
        }
      ],
      "source": [
        "model.eval()\n",
        "\n",
        "total_correct = 0\n",
        "total_samples = len(test_data)\n",
        "\n",
        "with torch.no_grad():\n",
        "    for inputs, labels in test_gen:\n",
        "        outputs = model(inputs)\n",
        "        _, predicted = torch.max(outputs, 1)\n",
        "        total_correct += (predicted == labels).sum().item()\n",
        "\n",
        "accuracy = total_correct / total_samples\n",
        "print(f'Acurácia no conjunto de validação: {accuracy:.4f}')\n"
      ]
    },
    {
      "cell_type": "markdown",
      "metadata": {
        "id": "0C9HH1SqJfiT"
      },
      "source": [
        "# Comparação"
      ]
    },
    {
      "cell_type": "markdown",
      "source": [
        "O modelo de random forest consegue atingir boa performance em tarefas de classificação de uma forma geral (se comparado a modelos mais simples como Naive Bayes, Knn ou decision tree, por exemplo). Entretanto, obtivemos a melhor acurácia de 0.63 na tarefa de classificação de imagens do conjunto MNIST.\n",
        "\n",
        "\n",
        "Ao definirmos a nossa primeira rede neural, o MLP, já foi possível obter um bom aumento na acurácia para 0.70.\n",
        "\n",
        "\n",
        "Já ao utilizarmos CNN mais complexas, observamos um aumento considerável na acurácia dos modelos definidos, conseguindo atingir uma acurácia de até 0.99 para o conjunto em análise.\n"
      ],
      "metadata": {
        "id": "bpsAbM-YQ0up"
      }
    },
    {
      "cell_type": "code",
      "source": [
        "accuracies = np.array([0.63, 0.70, 0.98, 0.99])\n",
        "labels = [\"Random forest\", \"MLP\", \"CNN\", \"Consolidada\"]"
      ],
      "metadata": {
        "id": "HBvbiJqKTbFp"
      },
      "execution_count": null,
      "outputs": []
    },
    {
      "cell_type": "code",
      "source": [
        "testing_df = pd.DataFrame( {\n",
        "    \"Acurácia\": [0.63, 0.70, 0.98, 0.99]\n",
        "  }, index=[\"Random forest\", \"MLP\", \"CNN\", \"Consolidada\"]\n",
        ")\n",
        "testing_df"
      ],
      "metadata": {
        "colab": {
          "base_uri": "https://localhost:8080/",
          "height": 175
        },
        "id": "geDvpy_tqjbI",
        "outputId": "e195f828-87b7-44ea-fcfa-ba598b10d305"
      },
      "execution_count": null,
      "outputs": [
        {
          "output_type": "execute_result",
          "data": {
            "text/plain": [
              "               Acurácia\n",
              "Random forest      0.63\n",
              "MLP                0.70\n",
              "CNN                0.98\n",
              "Consolidada        0.99"
            ],
            "text/html": [
              "\n",
              "\n",
              "  <div id=\"df-ada46030-ab6b-4387-9ee7-208dff15d215\">\n",
              "    <div class=\"colab-df-container\">\n",
              "      <div>\n",
              "<style scoped>\n",
              "    .dataframe tbody tr th:only-of-type {\n",
              "        vertical-align: middle;\n",
              "    }\n",
              "\n",
              "    .dataframe tbody tr th {\n",
              "        vertical-align: top;\n",
              "    }\n",
              "\n",
              "    .dataframe thead th {\n",
              "        text-align: right;\n",
              "    }\n",
              "</style>\n",
              "<table border=\"1\" class=\"dataframe\">\n",
              "  <thead>\n",
              "    <tr style=\"text-align: right;\">\n",
              "      <th></th>\n",
              "      <th>Acurácia</th>\n",
              "    </tr>\n",
              "  </thead>\n",
              "  <tbody>\n",
              "    <tr>\n",
              "      <th>Random forest</th>\n",
              "      <td>0.63</td>\n",
              "    </tr>\n",
              "    <tr>\n",
              "      <th>MLP</th>\n",
              "      <td>0.70</td>\n",
              "    </tr>\n",
              "    <tr>\n",
              "      <th>CNN</th>\n",
              "      <td>0.98</td>\n",
              "    </tr>\n",
              "    <tr>\n",
              "      <th>Consolidada</th>\n",
              "      <td>0.99</td>\n",
              "    </tr>\n",
              "  </tbody>\n",
              "</table>\n",
              "</div>\n",
              "      <button class=\"colab-df-convert\" onclick=\"convertToInteractive('df-ada46030-ab6b-4387-9ee7-208dff15d215')\"\n",
              "              title=\"Convert this dataframe to an interactive table.\"\n",
              "              style=\"display:none;\">\n",
              "\n",
              "  <svg xmlns=\"http://www.w3.org/2000/svg\" height=\"24px\"viewBox=\"0 0 24 24\"\n",
              "       width=\"24px\">\n",
              "    <path d=\"M0 0h24v24H0V0z\" fill=\"none\"/>\n",
              "    <path d=\"M18.56 5.44l.94 2.06.94-2.06 2.06-.94-2.06-.94-.94-2.06-.94 2.06-2.06.94zm-11 1L8.5 8.5l.94-2.06 2.06-.94-2.06-.94L8.5 2.5l-.94 2.06-2.06.94zm10 10l.94 2.06.94-2.06 2.06-.94-2.06-.94-.94-2.06-.94 2.06-2.06.94z\"/><path d=\"M17.41 7.96l-1.37-1.37c-.4-.4-.92-.59-1.43-.59-.52 0-1.04.2-1.43.59L10.3 9.45l-7.72 7.72c-.78.78-.78 2.05 0 2.83L4 21.41c.39.39.9.59 1.41.59.51 0 1.02-.2 1.41-.59l7.78-7.78 2.81-2.81c.8-.78.8-2.07 0-2.86zM5.41 20L4 18.59l7.72-7.72 1.47 1.35L5.41 20z\"/>\n",
              "  </svg>\n",
              "      </button>\n",
              "\n",
              "\n",
              "\n",
              "    <div id=\"df-d97b7612-94c6-4ad8-a76d-f59e651361af\">\n",
              "      <button class=\"colab-df-quickchart\" onclick=\"quickchart('df-d97b7612-94c6-4ad8-a76d-f59e651361af')\"\n",
              "              title=\"Suggest charts.\"\n",
              "              style=\"display:none;\">\n",
              "\n",
              "<svg xmlns=\"http://www.w3.org/2000/svg\" height=\"24px\"viewBox=\"0 0 24 24\"\n",
              "     width=\"24px\">\n",
              "    <g>\n",
              "        <path d=\"M19 3H5c-1.1 0-2 .9-2 2v14c0 1.1.9 2 2 2h14c1.1 0 2-.9 2-2V5c0-1.1-.9-2-2-2zM9 17H7v-7h2v7zm4 0h-2V7h2v10zm4 0h-2v-4h2v4z\"/>\n",
              "    </g>\n",
              "</svg>\n",
              "      </button>\n",
              "    </div>\n",
              "\n",
              "<style>\n",
              "  .colab-df-quickchart {\n",
              "    background-color: #E8F0FE;\n",
              "    border: none;\n",
              "    border-radius: 50%;\n",
              "    cursor: pointer;\n",
              "    display: none;\n",
              "    fill: #1967D2;\n",
              "    height: 32px;\n",
              "    padding: 0 0 0 0;\n",
              "    width: 32px;\n",
              "  }\n",
              "\n",
              "  .colab-df-quickchart:hover {\n",
              "    background-color: #E2EBFA;\n",
              "    box-shadow: 0px 1px 2px rgba(60, 64, 67, 0.3), 0px 1px 3px 1px rgba(60, 64, 67, 0.15);\n",
              "    fill: #174EA6;\n",
              "  }\n",
              "\n",
              "  [theme=dark] .colab-df-quickchart {\n",
              "    background-color: #3B4455;\n",
              "    fill: #D2E3FC;\n",
              "  }\n",
              "\n",
              "  [theme=dark] .colab-df-quickchart:hover {\n",
              "    background-color: #434B5C;\n",
              "    box-shadow: 0px 1px 3px 1px rgba(0, 0, 0, 0.15);\n",
              "    filter: drop-shadow(0px 1px 2px rgba(0, 0, 0, 0.3));\n",
              "    fill: #FFFFFF;\n",
              "  }\n",
              "</style>\n",
              "\n",
              "    <script>\n",
              "      async function quickchart(key) {\n",
              "        const containerElement = document.querySelector('#' + key);\n",
              "        const charts = await google.colab.kernel.invokeFunction(\n",
              "            'suggestCharts', [key], {});\n",
              "      }\n",
              "    </script>\n",
              "\n",
              "      <script>\n",
              "\n",
              "function displayQuickchartButton(domScope) {\n",
              "  let quickchartButtonEl =\n",
              "    domScope.querySelector('#df-d97b7612-94c6-4ad8-a76d-f59e651361af button.colab-df-quickchart');\n",
              "  quickchartButtonEl.style.display =\n",
              "    google.colab.kernel.accessAllowed ? 'block' : 'none';\n",
              "}\n",
              "\n",
              "        displayQuickchartButton(document);\n",
              "      </script>\n",
              "      <style>\n",
              "    .colab-df-container {\n",
              "      display:flex;\n",
              "      flex-wrap:wrap;\n",
              "      gap: 12px;\n",
              "    }\n",
              "\n",
              "    .colab-df-convert {\n",
              "      background-color: #E8F0FE;\n",
              "      border: none;\n",
              "      border-radius: 50%;\n",
              "      cursor: pointer;\n",
              "      display: none;\n",
              "      fill: #1967D2;\n",
              "      height: 32px;\n",
              "      padding: 0 0 0 0;\n",
              "      width: 32px;\n",
              "    }\n",
              "\n",
              "    .colab-df-convert:hover {\n",
              "      background-color: #E2EBFA;\n",
              "      box-shadow: 0px 1px 2px rgba(60, 64, 67, 0.3), 0px 1px 3px 1px rgba(60, 64, 67, 0.15);\n",
              "      fill: #174EA6;\n",
              "    }\n",
              "\n",
              "    [theme=dark] .colab-df-convert {\n",
              "      background-color: #3B4455;\n",
              "      fill: #D2E3FC;\n",
              "    }\n",
              "\n",
              "    [theme=dark] .colab-df-convert:hover {\n",
              "      background-color: #434B5C;\n",
              "      box-shadow: 0px 1px 3px 1px rgba(0, 0, 0, 0.15);\n",
              "      filter: drop-shadow(0px 1px 2px rgba(0, 0, 0, 0.3));\n",
              "      fill: #FFFFFF;\n",
              "    }\n",
              "  </style>\n",
              "\n",
              "      <script>\n",
              "        const buttonEl =\n",
              "          document.querySelector('#df-ada46030-ab6b-4387-9ee7-208dff15d215 button.colab-df-convert');\n",
              "        buttonEl.style.display =\n",
              "          google.colab.kernel.accessAllowed ? 'block' : 'none';\n",
              "\n",
              "        async function convertToInteractive(key) {\n",
              "          const element = document.querySelector('#df-ada46030-ab6b-4387-9ee7-208dff15d215');\n",
              "          const dataTable =\n",
              "            await google.colab.kernel.invokeFunction('convertToInteractive',\n",
              "                                                     [key], {});\n",
              "          if (!dataTable) return;\n",
              "\n",
              "          const docLinkHtml = 'Like what you see? Visit the ' +\n",
              "            '<a target=\"_blank\" href=https://colab.research.google.com/notebooks/data_table.ipynb>data table notebook</a>'\n",
              "            + ' to learn more about interactive tables.';\n",
              "          element.innerHTML = '';\n",
              "          dataTable['output_type'] = 'display_data';\n",
              "          await google.colab.output.renderOutput(dataTable, element);\n",
              "          const docLink = document.createElement('div');\n",
              "          docLink.innerHTML = docLinkHtml;\n",
              "          element.appendChild(docLink);\n",
              "        }\n",
              "      </script>\n",
              "    </div>\n",
              "  </div>\n"
            ]
          },
          "metadata": {},
          "execution_count": 41
        }
      ]
    },
    {
      "cell_type": "code",
      "source": [
        "sns.lineplot(data=testing_df, x=labels, y='Acurácia')"
      ],
      "metadata": {
        "colab": {
          "base_uri": "https://localhost:8080/",
          "height": 447
        },
        "id": "7D9cCfdOpjty",
        "outputId": "0fe88714-bf47-40fe-b299-7d266f8046f6"
      },
      "execution_count": null,
      "outputs": [
        {
          "output_type": "execute_result",
          "data": {
            "text/plain": [
              "<Axes: ylabel='Acurácia'>"
            ]
          },
          "metadata": {},
          "execution_count": 44
        },
        {
          "output_type": "display_data",
          "data": {
            "text/plain": [
              "<Figure size 640x480 with 1 Axes>"
            ],
            "image/png": "[encoded data removed]"
          },
          "metadata": {}
        }
      ]
    }
  ],
  "metadata": {
    "accelerator": "GPU",
    "colab": {
      "provenance": [],
      "include_colab_link": true
    },
    "kernelspec": {
      "display_name": "Python 3",
      "name": "python3"
    },
    "language_info": {
      "name": "python"
    }
  },
  "nbformat": 4,
  "nbformat_minor": 0
}